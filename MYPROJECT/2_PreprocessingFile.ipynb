{
 "cells": [
  {
   "cell_type": "code",
   "execution_count": 1,
   "id": "6afde20a",
   "metadata": {},
   "outputs": [],
   "source": [
    "import warnings\n",
    "warnings.filterwarnings(\"ignore\")\n",
    "\n",
    "import pandas as pd\n",
    "import os\n",
    "import matplotlib.pyplot as plt\n",
    "import numpy as np\n",
    "import seaborn as sns\n",
    "from imblearn.over_sampling import SMOTE\n",
    "from sklearn.model_selection import train_test_split"
   ]
  },
  {
   "cell_type": "code",
   "execution_count": 2,
   "id": "fc73cbf6",
   "metadata": {},
   "outputs": [],
   "source": [
    "data = pd.read_csv(\"clustered_data.csv\")"
   ]
  },
  {
   "cell_type": "code",
   "execution_count": 3,
   "id": "dfd20c7b",
   "metadata": {},
   "outputs": [
    {
     "data": {
      "text/html": [
       "<div>\n",
       "<style scoped>\n",
       "    .dataframe tbody tr th:only-of-type {\n",
       "        vertical-align: middle;\n",
       "    }\n",
       "\n",
       "    .dataframe tbody tr th {\n",
       "        vertical-align: top;\n",
       "    }\n",
       "\n",
       "    .dataframe thead th {\n",
       "        text-align: right;\n",
       "    }\n",
       "</style>\n",
       "<table border=\"1\" class=\"dataframe\">\n",
       "  <thead>\n",
       "    <tr style=\"text-align: right;\">\n",
       "      <th></th>\n",
       "      <th>N_SOIL</th>\n",
       "      <th>P_SOIL</th>\n",
       "      <th>K_SOIL</th>\n",
       "      <th>TEMPERATURE</th>\n",
       "      <th>HUMIDITY</th>\n",
       "      <th>ph</th>\n",
       "      <th>RAINFALL</th>\n",
       "      <th>STATE</th>\n",
       "      <th>CROP_PRICE</th>\n",
       "      <th>CROP</th>\n",
       "      <th>class</th>\n",
       "    </tr>\n",
       "  </thead>\n",
       "  <tbody>\n",
       "    <tr>\n",
       "      <th>0</th>\n",
       "      <td>0.171429</td>\n",
       "      <td>0.200000</td>\n",
       "      <td>0.150</td>\n",
       "      <td>0.586464</td>\n",
       "      <td>0.473200</td>\n",
       "      <td>0.285850</td>\n",
       "      <td>0.289376</td>\n",
       "      <td>0.72</td>\n",
       "      <td>0.014984</td>\n",
       "      <td>0.571429</td>\n",
       "      <td>0</td>\n",
       "    </tr>\n",
       "    <tr>\n",
       "      <th>1</th>\n",
       "      <td>0.492857</td>\n",
       "      <td>0.328571</td>\n",
       "      <td>0.090</td>\n",
       "      <td>0.384269</td>\n",
       "      <td>0.683551</td>\n",
       "      <td>0.512708</td>\n",
       "      <td>0.310438</td>\n",
       "      <td>0.20</td>\n",
       "      <td>0.024375</td>\n",
       "      <td>0.523810</td>\n",
       "      <td>0</td>\n",
       "    </tr>\n",
       "    <tr>\n",
       "      <th>2</th>\n",
       "      <td>0.742857</td>\n",
       "      <td>0.214286</td>\n",
       "      <td>0.115</td>\n",
       "      <td>0.536140</td>\n",
       "      <td>0.424722</td>\n",
       "      <td>0.541026</td>\n",
       "      <td>0.444709</td>\n",
       "      <td>1.00</td>\n",
       "      <td>0.041651</td>\n",
       "      <td>0.238095</td>\n",
       "      <td>0</td>\n",
       "    </tr>\n",
       "    <tr>\n",
       "      <th>3</th>\n",
       "      <td>0.285714</td>\n",
       "      <td>0.521429</td>\n",
       "      <td>0.075</td>\n",
       "      <td>0.297277</td>\n",
       "      <td>0.076711</td>\n",
       "      <td>0.336605</td>\n",
       "      <td>0.215347</td>\n",
       "      <td>0.36</td>\n",
       "      <td>0.020817</td>\n",
       "      <td>0.428571</td>\n",
       "      <td>0</td>\n",
       "    </tr>\n",
       "    <tr>\n",
       "      <th>4</th>\n",
       "      <td>0.642857</td>\n",
       "      <td>0.307143</td>\n",
       "      <td>0.200</td>\n",
       "      <td>0.437279</td>\n",
       "      <td>0.665572</td>\n",
       "      <td>0.467226</td>\n",
       "      <td>0.479354</td>\n",
       "      <td>0.92</td>\n",
       "      <td>0.004983</td>\n",
       "      <td>0.380952</td>\n",
       "      <td>0</td>\n",
       "    </tr>\n",
       "  </tbody>\n",
       "</table>\n",
       "</div>"
      ],
      "text/plain": [
       "     N_SOIL    P_SOIL  K_SOIL  TEMPERATURE  HUMIDITY        ph  RAINFALL  \\\n",
       "0  0.171429  0.200000   0.150     0.586464  0.473200  0.285850  0.289376   \n",
       "1  0.492857  0.328571   0.090     0.384269  0.683551  0.512708  0.310438   \n",
       "2  0.742857  0.214286   0.115     0.536140  0.424722  0.541026  0.444709   \n",
       "3  0.285714  0.521429   0.075     0.297277  0.076711  0.336605  0.215347   \n",
       "4  0.642857  0.307143   0.200     0.437279  0.665572  0.467226  0.479354   \n",
       "\n",
       "   STATE  CROP_PRICE      CROP  class  \n",
       "0   0.72    0.014984  0.571429      0  \n",
       "1   0.20    0.024375  0.523810      0  \n",
       "2   1.00    0.041651  0.238095      0  \n",
       "3   0.36    0.020817  0.428571      0  \n",
       "4   0.92    0.004983  0.380952      0  "
      ]
     },
     "execution_count": 3,
     "metadata": {},
     "output_type": "execute_result"
    }
   ],
   "source": [
    "data.head()"
   ]
  },
  {
   "cell_type": "code",
   "execution_count": 4,
   "id": "207854c6",
   "metadata": {},
   "outputs": [
    {
     "data": {
      "text/html": [
       "<div>\n",
       "<style scoped>\n",
       "    .dataframe tbody tr th:only-of-type {\n",
       "        vertical-align: middle;\n",
       "    }\n",
       "\n",
       "    .dataframe tbody tr th {\n",
       "        vertical-align: top;\n",
       "    }\n",
       "\n",
       "    .dataframe thead th {\n",
       "        text-align: right;\n",
       "    }\n",
       "</style>\n",
       "<table border=\"1\" class=\"dataframe\">\n",
       "  <thead>\n",
       "    <tr style=\"text-align: right;\">\n",
       "      <th></th>\n",
       "      <th>N_SOIL</th>\n",
       "      <th>P_SOIL</th>\n",
       "      <th>K_SOIL</th>\n",
       "      <th>TEMPERATURE</th>\n",
       "      <th>HUMIDITY</th>\n",
       "      <th>ph</th>\n",
       "      <th>RAINFALL</th>\n",
       "      <th>STATE</th>\n",
       "      <th>CROP_PRICE</th>\n",
       "      <th>CROP</th>\n",
       "      <th>class</th>\n",
       "    </tr>\n",
       "  </thead>\n",
       "  <tbody>\n",
       "    <tr>\n",
       "      <th>2194</th>\n",
       "      <td>0.228571</td>\n",
       "      <td>0.471429</td>\n",
       "      <td>0.400</td>\n",
       "      <td>0.338653</td>\n",
       "      <td>0.002124</td>\n",
       "      <td>0.450867</td>\n",
       "      <td>0.258147</td>\n",
       "      <td>0.28</td>\n",
       "      <td>0.062484</td>\n",
       "      <td>0.142857</td>\n",
       "      <td>3</td>\n",
       "    </tr>\n",
       "    <tr>\n",
       "      <th>2195</th>\n",
       "      <td>0.400000</td>\n",
       "      <td>0.442857</td>\n",
       "      <td>0.365</td>\n",
       "      <td>0.251042</td>\n",
       "      <td>0.028699</td>\n",
       "      <td>0.738794</td>\n",
       "      <td>0.206962</td>\n",
       "      <td>0.24</td>\n",
       "      <td>0.024984</td>\n",
       "      <td>0.142857</td>\n",
       "      <td>3</td>\n",
       "    </tr>\n",
       "    <tr>\n",
       "      <th>2196</th>\n",
       "      <td>0.664286</td>\n",
       "      <td>0.342857</td>\n",
       "      <td>0.165</td>\n",
       "      <td>0.519494</td>\n",
       "      <td>0.789233</td>\n",
       "      <td>0.554313</td>\n",
       "      <td>0.971688</td>\n",
       "      <td>0.20</td>\n",
       "      <td>0.010817</td>\n",
       "      <td>0.952381</td>\n",
       "      <td>3</td>\n",
       "    </tr>\n",
       "    <tr>\n",
       "      <th>2197</th>\n",
       "      <td>0.842857</td>\n",
       "      <td>0.250000</td>\n",
       "      <td>0.150</td>\n",
       "      <td>0.502863</td>\n",
       "      <td>0.516175</td>\n",
       "      <td>0.615119</td>\n",
       "      <td>0.364102</td>\n",
       "      <td>1.00</td>\n",
       "      <td>0.006233</td>\n",
       "      <td>0.238095</td>\n",
       "      <td>3</td>\n",
       "    </tr>\n",
       "    <tr>\n",
       "      <th>2198</th>\n",
       "      <td>0.128571</td>\n",
       "      <td>0.435714</td>\n",
       "      <td>0.085</td>\n",
       "      <td>0.489363</td>\n",
       "      <td>0.621683</td>\n",
       "      <td>0.442065</td>\n",
       "      <td>0.099462</td>\n",
       "      <td>0.48</td>\n",
       "      <td>0.019984</td>\n",
       "      <td>0.476190</td>\n",
       "      <td>3</td>\n",
       "    </tr>\n",
       "  </tbody>\n",
       "</table>\n",
       "</div>"
      ],
      "text/plain": [
       "        N_SOIL    P_SOIL  K_SOIL  TEMPERATURE  HUMIDITY        ph  RAINFALL  \\\n",
       "2194  0.228571  0.471429   0.400     0.338653  0.002124  0.450867  0.258147   \n",
       "2195  0.400000  0.442857   0.365     0.251042  0.028699  0.738794  0.206962   \n",
       "2196  0.664286  0.342857   0.165     0.519494  0.789233  0.554313  0.971688   \n",
       "2197  0.842857  0.250000   0.150     0.502863  0.516175  0.615119  0.364102   \n",
       "2198  0.128571  0.435714   0.085     0.489363  0.621683  0.442065  0.099462   \n",
       "\n",
       "      STATE  CROP_PRICE      CROP  class  \n",
       "2194   0.28    0.062484  0.142857      3  \n",
       "2195   0.24    0.024984  0.142857      3  \n",
       "2196   0.20    0.010817  0.952381      3  \n",
       "2197   1.00    0.006233  0.238095      3  \n",
       "2198   0.48    0.019984  0.476190      3  "
      ]
     },
     "execution_count": 4,
     "metadata": {},
     "output_type": "execute_result"
    }
   ],
   "source": [
    "data.tail()"
   ]
  },
  {
   "cell_type": "code",
   "execution_count": 5,
   "id": "09ad210f",
   "metadata": {},
   "outputs": [
    {
     "data": {
      "text/plain": [
       "(2199, 11)"
      ]
     },
     "execution_count": 5,
     "metadata": {},
     "output_type": "execute_result"
    }
   ],
   "source": [
    "data.shape"
   ]
  },
  {
   "cell_type": "code",
   "execution_count": 6,
   "id": "f4757e96",
   "metadata": {},
   "outputs": [
    {
     "name": "stdout",
     "output_type": "stream",
     "text": [
      "<class 'pandas.core.frame.DataFrame'>\n",
      "RangeIndex: 2199 entries, 0 to 2198\n",
      "Data columns (total 11 columns):\n",
      " #   Column       Non-Null Count  Dtype  \n",
      "---  ------       --------------  -----  \n",
      " 0   N_SOIL       2199 non-null   float64\n",
      " 1   P_SOIL       2199 non-null   float64\n",
      " 2   K_SOIL       2199 non-null   float64\n",
      " 3   TEMPERATURE  2199 non-null   float64\n",
      " 4   HUMIDITY     2199 non-null   float64\n",
      " 5   ph           2199 non-null   float64\n",
      " 6   RAINFALL     2199 non-null   float64\n",
      " 7   STATE        2199 non-null   float64\n",
      " 8   CROP_PRICE   2199 non-null   float64\n",
      " 9   CROP         2199 non-null   float64\n",
      " 10  class        2199 non-null   int64  \n",
      "dtypes: float64(10), int64(1)\n",
      "memory usage: 189.1 KB\n"
     ]
    }
   ],
   "source": [
    "data.info()"
   ]
  },
  {
   "cell_type": "code",
   "execution_count": 7,
   "id": "50ceb98f",
   "metadata": {},
   "outputs": [
    {
     "data": {
      "text/plain": [
       "array([0, 1, 2, 3], dtype=int64)"
      ]
     },
     "execution_count": 7,
     "metadata": {},
     "output_type": "execute_result"
    }
   ],
   "source": [
    "data['class'].unique()"
   ]
  },
  {
   "cell_type": "markdown",
   "id": "8c61e428",
   "metadata": {},
   "source": [
    "- Poor\n",
    "- Average\n",
    "- Good\n",
    "- Very Good"
   ]
  },
  {
   "cell_type": "code",
   "execution_count": 8,
   "id": "5ec5ec7e",
   "metadata": {},
   "outputs": [
    {
     "data": {
      "text/plain": [
       "0    1800\n",
       "1     200\n",
       "3     100\n",
       "2      99\n",
       "Name: class, dtype: int64"
      ]
     },
     "execution_count": 8,
     "metadata": {},
     "output_type": "execute_result"
    }
   ],
   "source": [
    "data['class'].value_counts()"
   ]
  },
  {
   "cell_type": "code",
   "execution_count": 9,
   "id": "f2354492",
   "metadata": {},
   "outputs": [
    {
     "data": {
      "text/plain": [
       "{0: 1800, 1: 200, 3: 100, 2: 99}"
      ]
     },
     "execution_count": 9,
     "metadata": {},
     "output_type": "execute_result"
    }
   ],
   "source": [
    "graph_values = dict(data['class'].value_counts())\n",
    "graph_values"
   ]
  },
  {
   "cell_type": "code",
   "execution_count": 10,
   "id": "f52e44dc",
   "metadata": {},
   "outputs": [
    {
     "data": {
      "image/png": "[encoded data removed]",
      "text/plain": [
       "<Figure size 1800x800 with 1 Axes>"
      ]
     },
     "metadata": {},
     "output_type": "display_data"
    }
   ],
   "source": [
    "with plt.style.context(style=\"fivethirtyeight\"):\n",
    "    plt.figure(figsize=(18, 8))\n",
    "    plt.rcParams['font.size'] = 15\n",
    "    bars = plt.bar(x=[str(label) for label in graph_values.keys()], height=graph_values.values())\n",
    "    plt.title(label=\"Bar-chart using size of targets\", fontsize=15)\n",
    "    plt.xlabel(xlabel='class labels')\n",
    "    plt.ylabel(ylabel='frequency of samples')\n",
    "    for bar in bars:\n",
    "        yval = bar.get_height()\n",
    "        plt.text(bar.get_x() + bar.get_width()/2, yval, round(yval, 2), ha='center', va='bottom', color='black', fontsize=15)\n",
    "    \n",
    "    plt.show()"
   ]
  },
  {
   "cell_type": "code",
   "execution_count": 11,
   "id": "39149366",
   "metadata": {},
   "outputs": [
    {
     "data": {
      "image/png": "[encoded data removed]",
      "text/plain": [
       "<Figure size 800x800 with 1 Axes>"
      ]
     },
     "metadata": {},
     "output_type": "display_data"
    }
   ],
   "source": [
    "with plt.style.context(style=\"fivethirtyeight\"):\n",
    "    plt.figure(figsize=(8, 8))\n",
    "    plt.rcParams['font.size'] = 15\n",
    "    wedges, text, autotext = plt.pie(\n",
    "        graph_values.values(),\n",
    "        labels=graph_values.keys(),\n",
    "        autopct='%1.1f%%',\n",
    "        startangle=90,\n",
    "        wedgeprops=dict(width=0.4, edgecolor='w'),\n",
    "        pctdistance=.85\n",
    "    )\n",
    "    center_circle = plt.Circle((0, 0), 0.3, color='white', fc='white', linewidth=1.25)\n",
    "    plt.gca().add_artist(center_circle)\n",
    "    plt.title(label=\"Donut-chart using percentage of size of targets\", fontsize=15)\n",
    "    plt.show()"
   ]
  },
  {
   "cell_type": "code",
   "execution_count": 12,
   "id": "ba33df54",
   "metadata": {},
   "outputs": [
    {
     "data": {
      "text/html": [
       "<div>\n",
       "<style scoped>\n",
       "    .dataframe tbody tr th:only-of-type {\n",
       "        vertical-align: middle;\n",
       "    }\n",
       "\n",
       "    .dataframe tbody tr th {\n",
       "        vertical-align: top;\n",
       "    }\n",
       "\n",
       "    .dataframe thead th {\n",
       "        text-align: right;\n",
       "    }\n",
       "</style>\n",
       "<table border=\"1\" class=\"dataframe\">\n",
       "  <thead>\n",
       "    <tr style=\"text-align: right;\">\n",
       "      <th></th>\n",
       "      <th>N_SOIL</th>\n",
       "      <th>P_SOIL</th>\n",
       "      <th>K_SOIL</th>\n",
       "      <th>TEMPERATURE</th>\n",
       "      <th>HUMIDITY</th>\n",
       "      <th>ph</th>\n",
       "      <th>RAINFALL</th>\n",
       "      <th>STATE</th>\n",
       "      <th>CROP_PRICE</th>\n",
       "      <th>CROP</th>\n",
       "    </tr>\n",
       "  </thead>\n",
       "  <tbody>\n",
       "    <tr>\n",
       "      <th>0</th>\n",
       "      <td>0.171429</td>\n",
       "      <td>0.200000</td>\n",
       "      <td>0.150</td>\n",
       "      <td>0.586464</td>\n",
       "      <td>0.473200</td>\n",
       "      <td>0.285850</td>\n",
       "      <td>0.289376</td>\n",
       "      <td>0.72</td>\n",
       "      <td>0.014984</td>\n",
       "      <td>0.571429</td>\n",
       "    </tr>\n",
       "    <tr>\n",
       "      <th>1</th>\n",
       "      <td>0.492857</td>\n",
       "      <td>0.328571</td>\n",
       "      <td>0.090</td>\n",
       "      <td>0.384269</td>\n",
       "      <td>0.683551</td>\n",
       "      <td>0.512708</td>\n",
       "      <td>0.310438</td>\n",
       "      <td>0.20</td>\n",
       "      <td>0.024375</td>\n",
       "      <td>0.523810</td>\n",
       "    </tr>\n",
       "    <tr>\n",
       "      <th>2</th>\n",
       "      <td>0.742857</td>\n",
       "      <td>0.214286</td>\n",
       "      <td>0.115</td>\n",
       "      <td>0.536140</td>\n",
       "      <td>0.424722</td>\n",
       "      <td>0.541026</td>\n",
       "      <td>0.444709</td>\n",
       "      <td>1.00</td>\n",
       "      <td>0.041651</td>\n",
       "      <td>0.238095</td>\n",
       "    </tr>\n",
       "    <tr>\n",
       "      <th>3</th>\n",
       "      <td>0.285714</td>\n",
       "      <td>0.521429</td>\n",
       "      <td>0.075</td>\n",
       "      <td>0.297277</td>\n",
       "      <td>0.076711</td>\n",
       "      <td>0.336605</td>\n",
       "      <td>0.215347</td>\n",
       "      <td>0.36</td>\n",
       "      <td>0.020817</td>\n",
       "      <td>0.428571</td>\n",
       "    </tr>\n",
       "    <tr>\n",
       "      <th>4</th>\n",
       "      <td>0.642857</td>\n",
       "      <td>0.307143</td>\n",
       "      <td>0.200</td>\n",
       "      <td>0.437279</td>\n",
       "      <td>0.665572</td>\n",
       "      <td>0.467226</td>\n",
       "      <td>0.479354</td>\n",
       "      <td>0.92</td>\n",
       "      <td>0.004983</td>\n",
       "      <td>0.380952</td>\n",
       "    </tr>\n",
       "  </tbody>\n",
       "</table>\n",
       "</div>"
      ],
      "text/plain": [
       "     N_SOIL    P_SOIL  K_SOIL  TEMPERATURE  HUMIDITY        ph  RAINFALL  \\\n",
       "0  0.171429  0.200000   0.150     0.586464  0.473200  0.285850  0.289376   \n",
       "1  0.492857  0.328571   0.090     0.384269  0.683551  0.512708  0.310438   \n",
       "2  0.742857  0.214286   0.115     0.536140  0.424722  0.541026  0.444709   \n",
       "3  0.285714  0.521429   0.075     0.297277  0.076711  0.336605  0.215347   \n",
       "4  0.642857  0.307143   0.200     0.437279  0.665572  0.467226  0.479354   \n",
       "\n",
       "   STATE  CROP_PRICE      CROP  \n",
       "0   0.72    0.014984  0.571429  \n",
       "1   0.20    0.024375  0.523810  \n",
       "2   1.00    0.041651  0.238095  \n",
       "3   0.36    0.020817  0.428571  \n",
       "4   0.92    0.004983  0.380952  "
      ]
     },
     "execution_count": 12,
     "metadata": {},
     "output_type": "execute_result"
    }
   ],
   "source": [
    "X = data.drop('class', axis=1)\n",
    "X.head()"
   ]
  },
  {
   "cell_type": "code",
   "execution_count": 13,
   "id": "3a5b6561",
   "metadata": {},
   "outputs": [
    {
     "data": {
      "text/html": [
       "<div>\n",
       "<style scoped>\n",
       "    .dataframe tbody tr th:only-of-type {\n",
       "        vertical-align: middle;\n",
       "    }\n",
       "\n",
       "    .dataframe tbody tr th {\n",
       "        vertical-align: top;\n",
       "    }\n",
       "\n",
       "    .dataframe thead th {\n",
       "        text-align: right;\n",
       "    }\n",
       "</style>\n",
       "<table border=\"1\" class=\"dataframe\">\n",
       "  <thead>\n",
       "    <tr style=\"text-align: right;\">\n",
       "      <th></th>\n",
       "      <th>class</th>\n",
       "    </tr>\n",
       "  </thead>\n",
       "  <tbody>\n",
       "    <tr>\n",
       "      <th>0</th>\n",
       "      <td>0</td>\n",
       "    </tr>\n",
       "    <tr>\n",
       "      <th>1</th>\n",
       "      <td>0</td>\n",
       "    </tr>\n",
       "    <tr>\n",
       "      <th>2</th>\n",
       "      <td>0</td>\n",
       "    </tr>\n",
       "    <tr>\n",
       "      <th>3</th>\n",
       "      <td>0</td>\n",
       "    </tr>\n",
       "    <tr>\n",
       "      <th>4</th>\n",
       "      <td>0</td>\n",
       "    </tr>\n",
       "  </tbody>\n",
       "</table>\n",
       "</div>"
      ],
      "text/plain": [
       "   class\n",
       "0      0\n",
       "1      0\n",
       "2      0\n",
       "3      0\n",
       "4      0"
      ]
     },
     "execution_count": 13,
     "metadata": {},
     "output_type": "execute_result"
    }
   ],
   "source": [
    "y = data[['class']]\n",
    "y.head()"
   ]
  },
  {
   "cell_type": "code",
   "execution_count": 14,
   "id": "5a40f5a8",
   "metadata": {},
   "outputs": [],
   "source": [
    "smote = SMOTE(random_state=42)\n",
    "\n",
    "X_resampled, y_resampled = smote.fit_resample(X, y)\n",
    "data = pd.DataFrame(X_resampled, columns=X.columns)\n",
    "data['class'] = y_resampled"
   ]
  },
  {
   "cell_type": "code",
   "execution_count": 15,
   "id": "2c168188",
   "metadata": {},
   "outputs": [
    {
     "data": {
      "text/html": [
       "<div>\n",
       "<style scoped>\n",
       "    .dataframe tbody tr th:only-of-type {\n",
       "        vertical-align: middle;\n",
       "    }\n",
       "\n",
       "    .dataframe tbody tr th {\n",
       "        vertical-align: top;\n",
       "    }\n",
       "\n",
       "    .dataframe thead th {\n",
       "        text-align: right;\n",
       "    }\n",
       "</style>\n",
       "<table border=\"1\" class=\"dataframe\">\n",
       "  <thead>\n",
       "    <tr style=\"text-align: right;\">\n",
       "      <th></th>\n",
       "      <th>N_SOIL</th>\n",
       "      <th>P_SOIL</th>\n",
       "      <th>K_SOIL</th>\n",
       "      <th>TEMPERATURE</th>\n",
       "      <th>HUMIDITY</th>\n",
       "      <th>ph</th>\n",
       "      <th>RAINFALL</th>\n",
       "      <th>STATE</th>\n",
       "      <th>CROP_PRICE</th>\n",
       "      <th>CROP</th>\n",
       "      <th>class</th>\n",
       "    </tr>\n",
       "  </thead>\n",
       "  <tbody>\n",
       "    <tr>\n",
       "      <th>0</th>\n",
       "      <td>0.040967</td>\n",
       "      <td>0.439494</td>\n",
       "      <td>0.053969</td>\n",
       "      <td>0.753103</td>\n",
       "      <td>0.216631</td>\n",
       "      <td>0.437511</td>\n",
       "      <td>0.487965</td>\n",
       "      <td>0.396472</td>\n",
       "      <td>0.018905</td>\n",
       "      <td>0.857143</td>\n",
       "      <td>3</td>\n",
       "    </tr>\n",
       "    <tr>\n",
       "      <th>1</th>\n",
       "      <td>0.371962</td>\n",
       "      <td>0.291711</td>\n",
       "      <td>0.064198</td>\n",
       "      <td>0.548221</td>\n",
       "      <td>0.738263</td>\n",
       "      <td>0.458559</td>\n",
       "      <td>0.140892</td>\n",
       "      <td>0.326418</td>\n",
       "      <td>0.027130</td>\n",
       "      <td>0.614108</td>\n",
       "      <td>3</td>\n",
       "    </tr>\n",
       "    <tr>\n",
       "      <th>2</th>\n",
       "      <td>0.450000</td>\n",
       "      <td>0.228571</td>\n",
       "      <td>0.190000</td>\n",
       "      <td>0.418720</td>\n",
       "      <td>0.826239</td>\n",
       "      <td>0.490986</td>\n",
       "      <td>0.594698</td>\n",
       "      <td>0.920000</td>\n",
       "      <td>0.033317</td>\n",
       "      <td>0.380952</td>\n",
       "      <td>0</td>\n",
       "    </tr>\n",
       "    <tr>\n",
       "      <th>3</th>\n",
       "      <td>0.185714</td>\n",
       "      <td>0.320847</td>\n",
       "      <td>0.091401</td>\n",
       "      <td>0.449607</td>\n",
       "      <td>0.521116</td>\n",
       "      <td>0.528489</td>\n",
       "      <td>0.141665</td>\n",
       "      <td>0.552007</td>\n",
       "      <td>0.008717</td>\n",
       "      <td>0.491432</td>\n",
       "      <td>2</td>\n",
       "    </tr>\n",
       "    <tr>\n",
       "      <th>4</th>\n",
       "      <td>0.407130</td>\n",
       "      <td>0.515154</td>\n",
       "      <td>0.065009</td>\n",
       "      <td>0.534336</td>\n",
       "      <td>0.600783</td>\n",
       "      <td>0.544062</td>\n",
       "      <td>0.154846</td>\n",
       "      <td>0.480000</td>\n",
       "      <td>0.000229</td>\n",
       "      <td>0.095238</td>\n",
       "      <td>2</td>\n",
       "    </tr>\n",
       "  </tbody>\n",
       "</table>\n",
       "</div>"
      ],
      "text/plain": [
       "     N_SOIL    P_SOIL    K_SOIL  TEMPERATURE  HUMIDITY        ph  RAINFALL  \\\n",
       "0  0.040967  0.439494  0.053969     0.753103  0.216631  0.437511  0.487965   \n",
       "1  0.371962  0.291711  0.064198     0.548221  0.738263  0.458559  0.140892   \n",
       "2  0.450000  0.228571  0.190000     0.418720  0.826239  0.490986  0.594698   \n",
       "3  0.185714  0.320847  0.091401     0.449607  0.521116  0.528489  0.141665   \n",
       "4  0.407130  0.515154  0.065009     0.534336  0.600783  0.544062  0.154846   \n",
       "\n",
       "      STATE  CROP_PRICE      CROP  class  \n",
       "0  0.396472    0.018905  0.857143      3  \n",
       "1  0.326418    0.027130  0.614108      3  \n",
       "2  0.920000    0.033317  0.380952      0  \n",
       "3  0.552007    0.008717  0.491432      2  \n",
       "4  0.480000    0.000229  0.095238      2  "
      ]
     },
     "execution_count": 15,
     "metadata": {},
     "output_type": "execute_result"
    }
   ],
   "source": [
    "data = data.sample(frac=1).reset_index(drop=True)\n",
    "data.head()"
   ]
  },
  {
   "cell_type": "code",
   "execution_count": 16,
   "id": "05221e4c",
   "metadata": {},
   "outputs": [
    {
     "data": {
      "text/plain": [
       "(7200, 11)"
      ]
     },
     "execution_count": 16,
     "metadata": {},
     "output_type": "execute_result"
    }
   ],
   "source": [
    "data.shape"
   ]
  },
  {
   "cell_type": "code",
   "execution_count": 17,
   "id": "06b54834",
   "metadata": {},
   "outputs": [
    {
     "data": {
      "text/plain": [
       "array([3, 0, 2, 1], dtype=int64)"
      ]
     },
     "execution_count": 17,
     "metadata": {},
     "output_type": "execute_result"
    }
   ],
   "source": [
    "data['class'].unique()"
   ]
  },
  {
   "cell_type": "code",
   "execution_count": 18,
   "id": "868bf503",
   "metadata": {},
   "outputs": [
    {
     "data": {
      "text/plain": [
       "3    1800\n",
       "0    1800\n",
       "2    1800\n",
       "1    1800\n",
       "Name: class, dtype: int64"
      ]
     },
     "execution_count": 18,
     "metadata": {},
     "output_type": "execute_result"
    }
   ],
   "source": [
    "data['class'].value_counts()"
   ]
  },
  {
   "cell_type": "code",
   "execution_count": 19,
   "id": "29275389",
   "metadata": {},
   "outputs": [
    {
     "data": {
      "text/plain": [
       "{3: 1800, 0: 1800, 2: 1800, 1: 1800}"
      ]
     },
     "execution_count": 19,
     "metadata": {},
     "output_type": "execute_result"
    }
   ],
   "source": [
    "graph_values = dict(data['class'].value_counts())\n",
    "graph_values"
   ]
  },
  {
   "cell_type": "code",
   "execution_count": 20,
   "id": "5ef2a4e8",
   "metadata": {},
   "outputs": [
    {
     "data": {
      "image/png": "[encoded data removed]",
      "text/plain": [
       "<Figure size 1800x800 with 1 Axes>"
      ]
     },
     "metadata": {},
     "output_type": "display_data"
    }
   ],
   "source": [
    "with plt.style.context(style=\"bmh\"):\n",
    "    plt.figure(figsize=(18, 8))\n",
    "    plt.rcParams['font.size'] = 15\n",
    "    bars = plt.bar(x=[str(label) for label in graph_values.keys()], height=graph_values.values())\n",
    "    plt.title(label=\"Bar-chart using size of targets\", fontsize=15)\n",
    "    plt.xlabel(xlabel='class labels')\n",
    "    plt.ylabel(ylabel='frequency of samples')\n",
    "    for bar in bars:\n",
    "        yval = bar.get_height()\n",
    "        plt.text(bar.get_x() + bar.get_width()/2, yval, round(yval, 2), ha='center', va='bottom', color='black', fontsize=15)\n",
    "    \n",
    "    plt.show()"
   ]
  },
  {
   "cell_type": "code",
   "execution_count": 21,
   "id": "42512be3",
   "metadata": {},
   "outputs": [
    {
     "data": {
      "image/png": "[encoded data removed]",
      "text/plain": [
       "<Figure size 800x800 with 1 Axes>"
      ]
     },
     "metadata": {},
     "output_type": "display_data"
    }
   ],
   "source": [
    "with plt.style.context(style=\"bmh\"):\n",
    "    plt.figure(figsize=(8, 8))\n",
    "    plt.rcParams['font.size'] = 15\n",
    "    wedges, text, autotext = plt.pie(\n",
    "        graph_values.values(),\n",
    "        labels=graph_values.keys(),\n",
    "        autopct='%1.1f%%',\n",
    "        startangle=90,\n",
    "        wedgeprops=dict(width=0.4, edgecolor='w'),\n",
    "        pctdistance=.85\n",
    "    )\n",
    "    center_circle = plt.Circle((0, 0), 0.3, color='white', fc='white', linewidth=1.25)\n",
    "    plt.gca().add_artist(center_circle)\n",
    "    plt.title(label=\"Donut-chart using percentage of size of targets\", fontsize=15)\n",
    "    plt.show()"
   ]
  },
  {
   "cell_type": "code",
   "execution_count": 22,
   "id": "56ffd596",
   "metadata": {},
   "outputs": [
    {
     "data": {
      "text/html": [
       "<div>\n",
       "<style scoped>\n",
       "    .dataframe tbody tr th:only-of-type {\n",
       "        vertical-align: middle;\n",
       "    }\n",
       "\n",
       "    .dataframe tbody tr th {\n",
       "        vertical-align: top;\n",
       "    }\n",
       "\n",
       "    .dataframe thead th {\n",
       "        text-align: right;\n",
       "    }\n",
       "</style>\n",
       "<table border=\"1\" class=\"dataframe\">\n",
       "  <thead>\n",
       "    <tr style=\"text-align: right;\">\n",
       "      <th></th>\n",
       "      <th>N_SOIL</th>\n",
       "      <th>P_SOIL</th>\n",
       "      <th>K_SOIL</th>\n",
       "      <th>TEMPERATURE</th>\n",
       "      <th>HUMIDITY</th>\n",
       "      <th>ph</th>\n",
       "      <th>RAINFALL</th>\n",
       "      <th>STATE</th>\n",
       "      <th>CROP_PRICE</th>\n",
       "      <th>CROP</th>\n",
       "    </tr>\n",
       "  </thead>\n",
       "  <tbody>\n",
       "    <tr>\n",
       "      <th>0</th>\n",
       "      <td>0.040967</td>\n",
       "      <td>0.439494</td>\n",
       "      <td>0.053969</td>\n",
       "      <td>0.753103</td>\n",
       "      <td>0.216631</td>\n",
       "      <td>0.437511</td>\n",
       "      <td>0.487965</td>\n",
       "      <td>0.396472</td>\n",
       "      <td>0.018905</td>\n",
       "      <td>0.857143</td>\n",
       "    </tr>\n",
       "    <tr>\n",
       "      <th>1</th>\n",
       "      <td>0.371962</td>\n",
       "      <td>0.291711</td>\n",
       "      <td>0.064198</td>\n",
       "      <td>0.548221</td>\n",
       "      <td>0.738263</td>\n",
       "      <td>0.458559</td>\n",
       "      <td>0.140892</td>\n",
       "      <td>0.326418</td>\n",
       "      <td>0.027130</td>\n",
       "      <td>0.614108</td>\n",
       "    </tr>\n",
       "    <tr>\n",
       "      <th>2</th>\n",
       "      <td>0.450000</td>\n",
       "      <td>0.228571</td>\n",
       "      <td>0.190000</td>\n",
       "      <td>0.418720</td>\n",
       "      <td>0.826239</td>\n",
       "      <td>0.490986</td>\n",
       "      <td>0.594698</td>\n",
       "      <td>0.920000</td>\n",
       "      <td>0.033317</td>\n",
       "      <td>0.380952</td>\n",
       "    </tr>\n",
       "    <tr>\n",
       "      <th>3</th>\n",
       "      <td>0.185714</td>\n",
       "      <td>0.320847</td>\n",
       "      <td>0.091401</td>\n",
       "      <td>0.449607</td>\n",
       "      <td>0.521116</td>\n",
       "      <td>0.528489</td>\n",
       "      <td>0.141665</td>\n",
       "      <td>0.552007</td>\n",
       "      <td>0.008717</td>\n",
       "      <td>0.491432</td>\n",
       "    </tr>\n",
       "    <tr>\n",
       "      <th>4</th>\n",
       "      <td>0.407130</td>\n",
       "      <td>0.515154</td>\n",
       "      <td>0.065009</td>\n",
       "      <td>0.534336</td>\n",
       "      <td>0.600783</td>\n",
       "      <td>0.544062</td>\n",
       "      <td>0.154846</td>\n",
       "      <td>0.480000</td>\n",
       "      <td>0.000229</td>\n",
       "      <td>0.095238</td>\n",
       "    </tr>\n",
       "  </tbody>\n",
       "</table>\n",
       "</div>"
      ],
      "text/plain": [
       "     N_SOIL    P_SOIL    K_SOIL  TEMPERATURE  HUMIDITY        ph  RAINFALL  \\\n",
       "0  0.040967  0.439494  0.053969     0.753103  0.216631  0.437511  0.487965   \n",
       "1  0.371962  0.291711  0.064198     0.548221  0.738263  0.458559  0.140892   \n",
       "2  0.450000  0.228571  0.190000     0.418720  0.826239  0.490986  0.594698   \n",
       "3  0.185714  0.320847  0.091401     0.449607  0.521116  0.528489  0.141665   \n",
       "4  0.407130  0.515154  0.065009     0.534336  0.600783  0.544062  0.154846   \n",
       "\n",
       "      STATE  CROP_PRICE      CROP  \n",
       "0  0.396472    0.018905  0.857143  \n",
       "1  0.326418    0.027130  0.614108  \n",
       "2  0.920000    0.033317  0.380952  \n",
       "3  0.552007    0.008717  0.491432  \n",
       "4  0.480000    0.000229  0.095238  "
      ]
     },
     "execution_count": 22,
     "metadata": {},
     "output_type": "execute_result"
    }
   ],
   "source": [
    "X = data.drop('class', axis=1)\n",
    "X.head()"
   ]
  },
  {
   "cell_type": "code",
   "execution_count": 23,
   "id": "4de1ce9c",
   "metadata": {},
   "outputs": [
    {
     "data": {
      "text/html": [
       "<div>\n",
       "<style scoped>\n",
       "    .dataframe tbody tr th:only-of-type {\n",
       "        vertical-align: middle;\n",
       "    }\n",
       "\n",
       "    .dataframe tbody tr th {\n",
       "        vertical-align: top;\n",
       "    }\n",
       "\n",
       "    .dataframe thead th {\n",
       "        text-align: right;\n",
       "    }\n",
       "</style>\n",
       "<table border=\"1\" class=\"dataframe\">\n",
       "  <thead>\n",
       "    <tr style=\"text-align: right;\">\n",
       "      <th></th>\n",
       "      <th>class</th>\n",
       "    </tr>\n",
       "  </thead>\n",
       "  <tbody>\n",
       "    <tr>\n",
       "      <th>0</th>\n",
       "      <td>3</td>\n",
       "    </tr>\n",
       "    <tr>\n",
       "      <th>1</th>\n",
       "      <td>3</td>\n",
       "    </tr>\n",
       "    <tr>\n",
       "      <th>2</th>\n",
       "      <td>0</td>\n",
       "    </tr>\n",
       "    <tr>\n",
       "      <th>3</th>\n",
       "      <td>2</td>\n",
       "    </tr>\n",
       "    <tr>\n",
       "      <th>4</th>\n",
       "      <td>2</td>\n",
       "    </tr>\n",
       "  </tbody>\n",
       "</table>\n",
       "</div>"
      ],
      "text/plain": [
       "   class\n",
       "0      3\n",
       "1      3\n",
       "2      0\n",
       "3      2\n",
       "4      2"
      ]
     },
     "execution_count": 23,
     "metadata": {},
     "output_type": "execute_result"
    }
   ],
   "source": [
    "y = data[['class']]\n",
    "y.head()"
   ]
  },
  {
   "cell_type": "code",
   "execution_count": 24,
   "id": "371b5275",
   "metadata": {},
   "outputs": [
    {
     "name": "stdout",
     "output_type": "stream",
     "text": [
      "(5760, 10) (1440, 10) (5760, 1) (1440, 1)\n"
     ]
    }
   ],
   "source": [
    "X_train, X_test, y_train, y_test = train_test_split(X, y, test_size=.2, random_state=42, stratify=y)\n",
    "print(X_train.shape, X_test.shape, y_train.shape, y_test.shape)"
   ]
  },
  {
   "cell_type": "code",
   "execution_count": 25,
   "id": "280130f4",
   "metadata": {},
   "outputs": [
    {
     "data": {
      "text/html": [
       "<div>\n",
       "<style scoped>\n",
       "    .dataframe tbody tr th:only-of-type {\n",
       "        vertical-align: middle;\n",
       "    }\n",
       "\n",
       "    .dataframe tbody tr th {\n",
       "        vertical-align: top;\n",
       "    }\n",
       "\n",
       "    .dataframe thead th {\n",
       "        text-align: right;\n",
       "    }\n",
       "</style>\n",
       "<table border=\"1\" class=\"dataframe\">\n",
       "  <thead>\n",
       "    <tr style=\"text-align: right;\">\n",
       "      <th></th>\n",
       "      <th>N_SOIL</th>\n",
       "      <th>P_SOIL</th>\n",
       "      <th>K_SOIL</th>\n",
       "      <th>TEMPERATURE</th>\n",
       "      <th>HUMIDITY</th>\n",
       "      <th>ph</th>\n",
       "      <th>RAINFALL</th>\n",
       "      <th>STATE</th>\n",
       "      <th>CROP_PRICE</th>\n",
       "      <th>CROP</th>\n",
       "    </tr>\n",
       "  </thead>\n",
       "  <tbody>\n",
       "    <tr>\n",
       "      <th>4748</th>\n",
       "      <td>0.542857</td>\n",
       "      <td>0.278571</td>\n",
       "      <td>0.060000</td>\n",
       "      <td>0.332603</td>\n",
       "      <td>0.563393</td>\n",
       "      <td>0.365562</td>\n",
       "      <td>0.161907</td>\n",
       "      <td>0.200000</td>\n",
       "      <td>0.050818</td>\n",
       "      <td>0.523810</td>\n",
       "    </tr>\n",
       "    <tr>\n",
       "      <th>5169</th>\n",
       "      <td>0.130077</td>\n",
       "      <td>0.058624</td>\n",
       "      <td>0.137709</td>\n",
       "      <td>0.527484</td>\n",
       "      <td>0.945602</td>\n",
       "      <td>0.382766</td>\n",
       "      <td>0.597620</td>\n",
       "      <td>0.920000</td>\n",
       "      <td>0.012102</td>\n",
       "      <td>0.190476</td>\n",
       "    </tr>\n",
       "    <tr>\n",
       "      <th>1219</th>\n",
       "      <td>0.292040</td>\n",
       "      <td>0.456816</td>\n",
       "      <td>0.384428</td>\n",
       "      <td>0.320239</td>\n",
       "      <td>0.028487</td>\n",
       "      <td>0.500883</td>\n",
       "      <td>0.176046</td>\n",
       "      <td>0.279084</td>\n",
       "      <td>0.023127</td>\n",
       "      <td>0.142857</td>\n",
       "    </tr>\n",
       "    <tr>\n",
       "      <th>2372</th>\n",
       "      <td>0.354234</td>\n",
       "      <td>0.421792</td>\n",
       "      <td>0.099236</td>\n",
       "      <td>0.577341</td>\n",
       "      <td>0.571988</td>\n",
       "      <td>0.505632</td>\n",
       "      <td>0.180080</td>\n",
       "      <td>0.480000</td>\n",
       "      <td>0.001926</td>\n",
       "      <td>0.095238</td>\n",
       "    </tr>\n",
       "    <tr>\n",
       "      <th>5973</th>\n",
       "      <td>0.566797</td>\n",
       "      <td>0.248312</td>\n",
       "      <td>0.160879</td>\n",
       "      <td>0.387883</td>\n",
       "      <td>0.793400</td>\n",
       "      <td>0.524427</td>\n",
       "      <td>0.684196</td>\n",
       "      <td>0.063515</td>\n",
       "      <td>0.029499</td>\n",
       "      <td>0.952381</td>\n",
       "    </tr>\n",
       "  </tbody>\n",
       "</table>\n",
       "</div>"
      ],
      "text/plain": [
       "        N_SOIL    P_SOIL    K_SOIL  TEMPERATURE  HUMIDITY        ph  RAINFALL  \\\n",
       "4748  0.542857  0.278571  0.060000     0.332603  0.563393  0.365562  0.161907   \n",
       "5169  0.130077  0.058624  0.137709     0.527484  0.945602  0.382766  0.597620   \n",
       "1219  0.292040  0.456816  0.384428     0.320239  0.028487  0.500883  0.176046   \n",
       "2372  0.354234  0.421792  0.099236     0.577341  0.571988  0.505632  0.180080   \n",
       "5973  0.566797  0.248312  0.160879     0.387883  0.793400  0.524427  0.684196   \n",
       "\n",
       "         STATE  CROP_PRICE      CROP  \n",
       "4748  0.200000    0.050818  0.523810  \n",
       "5169  0.920000    0.012102  0.190476  \n",
       "1219  0.279084    0.023127  0.142857  \n",
       "2372  0.480000    0.001926  0.095238  \n",
       "5973  0.063515    0.029499  0.952381  "
      ]
     },
     "execution_count": 25,
     "metadata": {},
     "output_type": "execute_result"
    }
   ],
   "source": [
    "X_train.head()"
   ]
  },
  {
   "cell_type": "code",
   "execution_count": 26,
   "id": "b0d3d5d6",
   "metadata": {},
   "outputs": [
    {
     "data": {
      "text/html": [
       "<div>\n",
       "<style scoped>\n",
       "    .dataframe tbody tr th:only-of-type {\n",
       "        vertical-align: middle;\n",
       "    }\n",
       "\n",
       "    .dataframe tbody tr th {\n",
       "        vertical-align: top;\n",
       "    }\n",
       "\n",
       "    .dataframe thead th {\n",
       "        text-align: right;\n",
       "    }\n",
       "</style>\n",
       "<table border=\"1\" class=\"dataframe\">\n",
       "  <thead>\n",
       "    <tr style=\"text-align: right;\">\n",
       "      <th></th>\n",
       "      <th>class</th>\n",
       "    </tr>\n",
       "  </thead>\n",
       "  <tbody>\n",
       "    <tr>\n",
       "      <th>4748</th>\n",
       "      <td>0</td>\n",
       "    </tr>\n",
       "    <tr>\n",
       "      <th>5169</th>\n",
       "      <td>1</td>\n",
       "    </tr>\n",
       "    <tr>\n",
       "      <th>1219</th>\n",
       "      <td>2</td>\n",
       "    </tr>\n",
       "    <tr>\n",
       "      <th>2372</th>\n",
       "      <td>2</td>\n",
       "    </tr>\n",
       "    <tr>\n",
       "      <th>5973</th>\n",
       "      <td>3</td>\n",
       "    </tr>\n",
       "  </tbody>\n",
       "</table>\n",
       "</div>"
      ],
      "text/plain": [
       "      class\n",
       "4748      0\n",
       "5169      1\n",
       "1219      2\n",
       "2372      2\n",
       "5973      3"
      ]
     },
     "execution_count": 26,
     "metadata": {},
     "output_type": "execute_result"
    }
   ],
   "source": [
    "y_train.head()"
   ]
  },
  {
   "cell_type": "code",
   "execution_count": 27,
   "id": "0fd65753",
   "metadata": {},
   "outputs": [
    {
     "data": {
      "text/html": [
       "<div>\n",
       "<style scoped>\n",
       "    .dataframe tbody tr th:only-of-type {\n",
       "        vertical-align: middle;\n",
       "    }\n",
       "\n",
       "    .dataframe tbody tr th {\n",
       "        vertical-align: top;\n",
       "    }\n",
       "\n",
       "    .dataframe thead th {\n",
       "        text-align: right;\n",
       "    }\n",
       "</style>\n",
       "<table border=\"1\" class=\"dataframe\">\n",
       "  <thead>\n",
       "    <tr style=\"text-align: right;\">\n",
       "      <th></th>\n",
       "      <th>N_SOIL</th>\n",
       "      <th>P_SOIL</th>\n",
       "      <th>K_SOIL</th>\n",
       "      <th>TEMPERATURE</th>\n",
       "      <th>HUMIDITY</th>\n",
       "      <th>ph</th>\n",
       "      <th>RAINFALL</th>\n",
       "      <th>STATE</th>\n",
       "      <th>CROP_PRICE</th>\n",
       "      <th>CROP</th>\n",
       "    </tr>\n",
       "  </thead>\n",
       "  <tbody>\n",
       "    <tr>\n",
       "      <th>7148</th>\n",
       "      <td>0.740831</td>\n",
       "      <td>0.108255</td>\n",
       "      <td>0.111055</td>\n",
       "      <td>0.504541</td>\n",
       "      <td>0.574697</td>\n",
       "      <td>0.552189</td>\n",
       "      <td>0.610996</td>\n",
       "      <td>1.000000</td>\n",
       "      <td>0.015602</td>\n",
       "      <td>0.238095</td>\n",
       "    </tr>\n",
       "    <tr>\n",
       "      <th>2449</th>\n",
       "      <td>0.530736</td>\n",
       "      <td>0.319148</td>\n",
       "      <td>0.158893</td>\n",
       "      <td>0.502829</td>\n",
       "      <td>0.691580</td>\n",
       "      <td>0.567435</td>\n",
       "      <td>0.616682</td>\n",
       "      <td>1.000000</td>\n",
       "      <td>0.025349</td>\n",
       "      <td>0.380952</td>\n",
       "    </tr>\n",
       "    <tr>\n",
       "      <th>1263</th>\n",
       "      <td>0.087342</td>\n",
       "      <td>0.682097</td>\n",
       "      <td>0.748304</td>\n",
       "      <td>0.419808</td>\n",
       "      <td>0.909292</td>\n",
       "      <td>0.343870</td>\n",
       "      <td>0.381182</td>\n",
       "      <td>0.920000</td>\n",
       "      <td>0.010879</td>\n",
       "      <td>0.047150</td>\n",
       "    </tr>\n",
       "    <tr>\n",
       "      <th>4078</th>\n",
       "      <td>0.157143</td>\n",
       "      <td>0.357143</td>\n",
       "      <td>0.095000</td>\n",
       "      <td>0.566497</td>\n",
       "      <td>0.502174</td>\n",
       "      <td>0.801828</td>\n",
       "      <td>0.159221</td>\n",
       "      <td>0.400000</td>\n",
       "      <td>0.019150</td>\n",
       "      <td>0.619048</td>\n",
       "    </tr>\n",
       "    <tr>\n",
       "      <th>3227</th>\n",
       "      <td>0.095257</td>\n",
       "      <td>0.462962</td>\n",
       "      <td>0.067220</td>\n",
       "      <td>0.485957</td>\n",
       "      <td>0.632552</td>\n",
       "      <td>0.565024</td>\n",
       "      <td>0.072943</td>\n",
       "      <td>0.512587</td>\n",
       "      <td>0.072108</td>\n",
       "      <td>0.476190</td>\n",
       "    </tr>\n",
       "  </tbody>\n",
       "</table>\n",
       "</div>"
      ],
      "text/plain": [
       "        N_SOIL    P_SOIL    K_SOIL  TEMPERATURE  HUMIDITY        ph  RAINFALL  \\\n",
       "7148  0.740831  0.108255  0.111055     0.504541  0.574697  0.552189  0.610996   \n",
       "2449  0.530736  0.319148  0.158893     0.502829  0.691580  0.567435  0.616682   \n",
       "1263  0.087342  0.682097  0.748304     0.419808  0.909292  0.343870  0.381182   \n",
       "4078  0.157143  0.357143  0.095000     0.566497  0.502174  0.801828  0.159221   \n",
       "3227  0.095257  0.462962  0.067220     0.485957  0.632552  0.565024  0.072943   \n",
       "\n",
       "         STATE  CROP_PRICE      CROP  \n",
       "7148  1.000000    0.015602  0.238095  \n",
       "2449  1.000000    0.025349  0.380952  \n",
       "1263  0.920000    0.010879  0.047150  \n",
       "4078  0.400000    0.019150  0.619048  \n",
       "3227  0.512587    0.072108  0.476190  "
      ]
     },
     "execution_count": 27,
     "metadata": {},
     "output_type": "execute_result"
    }
   ],
   "source": [
    "X_test.head()"
   ]
  },
  {
   "cell_type": "code",
   "execution_count": 28,
   "id": "875cc9d4",
   "metadata": {},
   "outputs": [
    {
     "data": {
      "text/html": [
       "<div>\n",
       "<style scoped>\n",
       "    .dataframe tbody tr th:only-of-type {\n",
       "        vertical-align: middle;\n",
       "    }\n",
       "\n",
       "    .dataframe tbody tr th {\n",
       "        vertical-align: top;\n",
       "    }\n",
       "\n",
       "    .dataframe thead th {\n",
       "        text-align: right;\n",
       "    }\n",
       "</style>\n",
       "<table border=\"1\" class=\"dataframe\">\n",
       "  <thead>\n",
       "    <tr style=\"text-align: right;\">\n",
       "      <th></th>\n",
       "      <th>class</th>\n",
       "    </tr>\n",
       "  </thead>\n",
       "  <tbody>\n",
       "    <tr>\n",
       "      <th>7148</th>\n",
       "      <td>2</td>\n",
       "    </tr>\n",
       "    <tr>\n",
       "      <th>2449</th>\n",
       "      <td>3</td>\n",
       "    </tr>\n",
       "    <tr>\n",
       "      <th>1263</th>\n",
       "      <td>3</td>\n",
       "    </tr>\n",
       "    <tr>\n",
       "      <th>4078</th>\n",
       "      <td>0</td>\n",
       "    </tr>\n",
       "    <tr>\n",
       "      <th>3227</th>\n",
       "      <td>1</td>\n",
       "    </tr>\n",
       "  </tbody>\n",
       "</table>\n",
       "</div>"
      ],
      "text/plain": [
       "      class\n",
       "7148      2\n",
       "2449      3\n",
       "1263      3\n",
       "4078      0\n",
       "3227      1"
      ]
     },
     "execution_count": 28,
     "metadata": {},
     "output_type": "execute_result"
    }
   ],
   "source": [
    "y_test.head()"
   ]
  },
  {
   "cell_type": "code",
   "execution_count": 29,
   "id": "55776ed2",
   "metadata": {},
   "outputs": [],
   "source": [
    "X_train.to_csv(\"train_test_data/X_train.csv\", index=False)\n",
    "y_train.to_csv(\"train_test_data/y_train.csv\", index=False)\n",
    "X_test.to_csv(\"train_test_data/X_test.csv\", index=False)\n",
    "y_test.to_csv(\"train_test_data/y_test.csv\", index=False)"
   ]
  },
  {
   "cell_type": "markdown",
   "id": "c35f6447",
   "metadata": {},
   "source": [
    "---"
   ]
  }
 ],
 "metadata": {
  "kernelspec": {
   "display_name": "Python 3 (ipykernel)",
   "language": "python",
   "name": "python3"
  },
  "language_info": {
   "codemirror_mode": {
    "name": "ipython",
    "version": 3
   },
   "file_extension": ".py",
   "mimetype": "text/x-python",
   "name": "python",
   "nbconvert_exporter": "python",
   "pygments_lexer": "ipython3",
   "version": "3.9.7"
  }
 },
 "nbformat": 4,
 "nbformat_minor": 5
}

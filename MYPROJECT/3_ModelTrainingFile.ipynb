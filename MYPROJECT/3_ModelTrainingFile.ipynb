{
 "cells": [
  {
   "cell_type": "markdown",
   "id": "f3bb3d3b",
   "metadata": {
    "id": "f3bb3d3b"
   },
   "source": [
    "# Import Libraries"
   ]
  },
  {
   "cell_type": "code",
   "execution_count": 1,
   "id": "d1f5615b",
   "metadata": {
    "colab": {
     "base_uri": "https://localhost:8080/"
    },
    "executionInfo": {
     "elapsed": 1531,
     "status": "ok",
     "timestamp": 1695454305519,
     "user": {
      "displayName": "Pulavendran S",
      "userId": "09545379829326731753"
     },
     "user_tz": -330
    },
    "id": "d1f5615b",
    "outputId": "05bd624e-8e8f-40ca-829b-fbf9422ebd60"
   },
   "outputs": [
    {
     "name": "stdout",
     "output_type": "stream",
     "text": [
      "train_test_data\\X_test.csv\n",
      "train_test_data\\X_train.csv\n",
      "train_test_data\\y_test.csv\n",
      "train_test_data\\y_train.csv\n"
     ]
    }
   ],
   "source": [
    "import warnings\n",
    "warnings.filterwarnings(\"ignore\")\n",
    "\n",
    "import pandas as pd\n",
    "import numpy as np\n",
    "import matplotlib.pyplot as plt\n",
    "%matplotlib inline\n",
    "import pickle\n",
    "import seaborn as sns\n",
    "from sklearn.metrics import accuracy_score,classification_report,confusion_matrix\n",
    "\n",
    "import os\n",
    "for dirname,_,filenames in os.walk('train_test_data'):\n",
    "    for filename in filenames:\n",
    "        print(os.path.join(dirname,filename))"
   ]
  },
  {
   "cell_type": "markdown",
   "id": "2f7e48b3",
   "metadata": {
    "id": "2f7e48b3"
   },
   "source": [
    "# Data Loading"
   ]
  },
  {
   "cell_type": "code",
   "execution_count": 2,
   "id": "3547c7ca",
   "metadata": {
    "colab": {
     "base_uri": "https://localhost:8080/"
    },
    "executionInfo": {
     "elapsed": 1497,
     "status": "ok",
     "timestamp": 1695454307010,
     "user": {
      "displayName": "Pulavendran S",
      "userId": "09545379829326731753"
     },
     "user_tz": -330
    },
    "id": "3547c7ca",
    "outputId": "b4055ebf-cdaf-4785-ade0-13179a266b8a"
   },
   "outputs": [
    {
     "name": "stdout",
     "output_type": "stream",
     "text": [
      "(5760, 10) (1440, 10) (5760, 1) (1440, 1)\n"
     ]
    }
   ],
   "source": [
    "X_train=pd.read_csv('train_test_data/X_train.csv')\n",
    "X_test=pd.read_csv('train_test_data/X_test.csv')\n",
    "y_train=pd.read_csv('train_test_data/y_train.csv')\n",
    "y_test=pd.read_csv('train_test_data/y_test.csv')\n",
    "\n",
    "print(X_train.shape,X_test.shape,y_train.shape,y_test.shape)"
   ]
  },
  {
   "cell_type": "code",
   "execution_count": 3,
   "id": "b57c6b83",
   "metadata": {},
   "outputs": [
    {
     "data": {
      "text/html": [
       "<div>\n",
       "<style scoped>\n",
       "    .dataframe tbody tr th:only-of-type {\n",
       "        vertical-align: middle;\n",
       "    }\n",
       "\n",
       "    .dataframe tbody tr th {\n",
       "        vertical-align: top;\n",
       "    }\n",
       "\n",
       "    .dataframe thead th {\n",
       "        text-align: right;\n",
       "    }\n",
       "</style>\n",
       "<table border=\"1\" class=\"dataframe\">\n",
       "  <thead>\n",
       "    <tr style=\"text-align: right;\">\n",
       "      <th></th>\n",
       "      <th>N_SOIL</th>\n",
       "      <th>P_SOIL</th>\n",
       "      <th>K_SOIL</th>\n",
       "      <th>TEMPERATURE</th>\n",
       "      <th>HUMIDITY</th>\n",
       "      <th>ph</th>\n",
       "      <th>RAINFALL</th>\n",
       "      <th>STATE</th>\n",
       "      <th>CROP_PRICE</th>\n",
       "      <th>CROP</th>\n",
       "    </tr>\n",
       "  </thead>\n",
       "  <tbody>\n",
       "    <tr>\n",
       "      <th>0</th>\n",
       "      <td>0.542857</td>\n",
       "      <td>0.278571</td>\n",
       "      <td>0.060000</td>\n",
       "      <td>0.332603</td>\n",
       "      <td>0.563393</td>\n",
       "      <td>0.365562</td>\n",
       "      <td>0.161907</td>\n",
       "      <td>0.200000</td>\n",
       "      <td>0.050818</td>\n",
       "      <td>0.523810</td>\n",
       "    </tr>\n",
       "    <tr>\n",
       "      <th>1</th>\n",
       "      <td>0.130077</td>\n",
       "      <td>0.058624</td>\n",
       "      <td>0.137709</td>\n",
       "      <td>0.527484</td>\n",
       "      <td>0.945602</td>\n",
       "      <td>0.382766</td>\n",
       "      <td>0.597620</td>\n",
       "      <td>0.920000</td>\n",
       "      <td>0.012102</td>\n",
       "      <td>0.190476</td>\n",
       "    </tr>\n",
       "    <tr>\n",
       "      <th>2</th>\n",
       "      <td>0.292040</td>\n",
       "      <td>0.456816</td>\n",
       "      <td>0.384428</td>\n",
       "      <td>0.320239</td>\n",
       "      <td>0.028487</td>\n",
       "      <td>0.500883</td>\n",
       "      <td>0.176046</td>\n",
       "      <td>0.279084</td>\n",
       "      <td>0.023127</td>\n",
       "      <td>0.142857</td>\n",
       "    </tr>\n",
       "    <tr>\n",
       "      <th>3</th>\n",
       "      <td>0.354234</td>\n",
       "      <td>0.421792</td>\n",
       "      <td>0.099236</td>\n",
       "      <td>0.577341</td>\n",
       "      <td>0.571988</td>\n",
       "      <td>0.505632</td>\n",
       "      <td>0.180080</td>\n",
       "      <td>0.480000</td>\n",
       "      <td>0.001926</td>\n",
       "      <td>0.095238</td>\n",
       "    </tr>\n",
       "    <tr>\n",
       "      <th>4</th>\n",
       "      <td>0.566797</td>\n",
       "      <td>0.248312</td>\n",
       "      <td>0.160879</td>\n",
       "      <td>0.387883</td>\n",
       "      <td>0.793400</td>\n",
       "      <td>0.524427</td>\n",
       "      <td>0.684196</td>\n",
       "      <td>0.063515</td>\n",
       "      <td>0.029499</td>\n",
       "      <td>0.952381</td>\n",
       "    </tr>\n",
       "  </tbody>\n",
       "</table>\n",
       "</div>"
      ],
      "text/plain": [
       "     N_SOIL    P_SOIL    K_SOIL  TEMPERATURE  HUMIDITY        ph  RAINFALL  \\\n",
       "0  0.542857  0.278571  0.060000     0.332603  0.563393  0.365562  0.161907   \n",
       "1  0.130077  0.058624  0.137709     0.527484  0.945602  0.382766  0.597620   \n",
       "2  0.292040  0.456816  0.384428     0.320239  0.028487  0.500883  0.176046   \n",
       "3  0.354234  0.421792  0.099236     0.577341  0.571988  0.505632  0.180080   \n",
       "4  0.566797  0.248312  0.160879     0.387883  0.793400  0.524427  0.684196   \n",
       "\n",
       "      STATE  CROP_PRICE      CROP  \n",
       "0  0.200000    0.050818  0.523810  \n",
       "1  0.920000    0.012102  0.190476  \n",
       "2  0.279084    0.023127  0.142857  \n",
       "3  0.480000    0.001926  0.095238  \n",
       "4  0.063515    0.029499  0.952381  "
      ]
     },
     "execution_count": 3,
     "metadata": {},
     "output_type": "execute_result"
    }
   ],
   "source": [
    "X_train.head()"
   ]
  },
  {
   "cell_type": "code",
   "execution_count": 4,
   "id": "dc63771a",
   "metadata": {},
   "outputs": [
    {
     "data": {
      "text/html": [
       "<div>\n",
       "<style scoped>\n",
       "    .dataframe tbody tr th:only-of-type {\n",
       "        vertical-align: middle;\n",
       "    }\n",
       "\n",
       "    .dataframe tbody tr th {\n",
       "        vertical-align: top;\n",
       "    }\n",
       "\n",
       "    .dataframe thead th {\n",
       "        text-align: right;\n",
       "    }\n",
       "</style>\n",
       "<table border=\"1\" class=\"dataframe\">\n",
       "  <thead>\n",
       "    <tr style=\"text-align: right;\">\n",
       "      <th></th>\n",
       "      <th>class</th>\n",
       "    </tr>\n",
       "  </thead>\n",
       "  <tbody>\n",
       "    <tr>\n",
       "      <th>0</th>\n",
       "      <td>0</td>\n",
       "    </tr>\n",
       "    <tr>\n",
       "      <th>1</th>\n",
       "      <td>1</td>\n",
       "    </tr>\n",
       "    <tr>\n",
       "      <th>2</th>\n",
       "      <td>2</td>\n",
       "    </tr>\n",
       "    <tr>\n",
       "      <th>3</th>\n",
       "      <td>2</td>\n",
       "    </tr>\n",
       "    <tr>\n",
       "      <th>4</th>\n",
       "      <td>3</td>\n",
       "    </tr>\n",
       "  </tbody>\n",
       "</table>\n",
       "</div>"
      ],
      "text/plain": [
       "   class\n",
       "0      0\n",
       "1      1\n",
       "2      2\n",
       "3      2\n",
       "4      3"
      ]
     },
     "execution_count": 4,
     "metadata": {},
     "output_type": "execute_result"
    }
   ],
   "source": [
    "y_train.head()"
   ]
  },
  {
   "cell_type": "code",
   "execution_count": 5,
   "id": "db6c9583",
   "metadata": {},
   "outputs": [
    {
     "data": {
      "text/html": [
       "<div>\n",
       "<style scoped>\n",
       "    .dataframe tbody tr th:only-of-type {\n",
       "        vertical-align: middle;\n",
       "    }\n",
       "\n",
       "    .dataframe tbody tr th {\n",
       "        vertical-align: top;\n",
       "    }\n",
       "\n",
       "    .dataframe thead th {\n",
       "        text-align: right;\n",
       "    }\n",
       "</style>\n",
       "<table border=\"1\" class=\"dataframe\">\n",
       "  <thead>\n",
       "    <tr style=\"text-align: right;\">\n",
       "      <th></th>\n",
       "      <th>N_SOIL</th>\n",
       "      <th>P_SOIL</th>\n",
       "      <th>K_SOIL</th>\n",
       "      <th>TEMPERATURE</th>\n",
       "      <th>HUMIDITY</th>\n",
       "      <th>ph</th>\n",
       "      <th>RAINFALL</th>\n",
       "      <th>STATE</th>\n",
       "      <th>CROP_PRICE</th>\n",
       "      <th>CROP</th>\n",
       "    </tr>\n",
       "  </thead>\n",
       "  <tbody>\n",
       "    <tr>\n",
       "      <th>0</th>\n",
       "      <td>0.740831</td>\n",
       "      <td>0.108255</td>\n",
       "      <td>0.111055</td>\n",
       "      <td>0.504541</td>\n",
       "      <td>0.574697</td>\n",
       "      <td>0.552189</td>\n",
       "      <td>0.610996</td>\n",
       "      <td>1.000000</td>\n",
       "      <td>0.015602</td>\n",
       "      <td>0.238095</td>\n",
       "    </tr>\n",
       "    <tr>\n",
       "      <th>1</th>\n",
       "      <td>0.530736</td>\n",
       "      <td>0.319148</td>\n",
       "      <td>0.158893</td>\n",
       "      <td>0.502829</td>\n",
       "      <td>0.691580</td>\n",
       "      <td>0.567435</td>\n",
       "      <td>0.616682</td>\n",
       "      <td>1.000000</td>\n",
       "      <td>0.025349</td>\n",
       "      <td>0.380952</td>\n",
       "    </tr>\n",
       "    <tr>\n",
       "      <th>2</th>\n",
       "      <td>0.087342</td>\n",
       "      <td>0.682097</td>\n",
       "      <td>0.748304</td>\n",
       "      <td>0.419808</td>\n",
       "      <td>0.909292</td>\n",
       "      <td>0.343870</td>\n",
       "      <td>0.381182</td>\n",
       "      <td>0.920000</td>\n",
       "      <td>0.010879</td>\n",
       "      <td>0.047150</td>\n",
       "    </tr>\n",
       "    <tr>\n",
       "      <th>3</th>\n",
       "      <td>0.157143</td>\n",
       "      <td>0.357143</td>\n",
       "      <td>0.095000</td>\n",
       "      <td>0.566497</td>\n",
       "      <td>0.502174</td>\n",
       "      <td>0.801828</td>\n",
       "      <td>0.159221</td>\n",
       "      <td>0.400000</td>\n",
       "      <td>0.019150</td>\n",
       "      <td>0.619048</td>\n",
       "    </tr>\n",
       "    <tr>\n",
       "      <th>4</th>\n",
       "      <td>0.095257</td>\n",
       "      <td>0.462962</td>\n",
       "      <td>0.067220</td>\n",
       "      <td>0.485957</td>\n",
       "      <td>0.632552</td>\n",
       "      <td>0.565024</td>\n",
       "      <td>0.072943</td>\n",
       "      <td>0.512587</td>\n",
       "      <td>0.072108</td>\n",
       "      <td>0.476190</td>\n",
       "    </tr>\n",
       "  </tbody>\n",
       "</table>\n",
       "</div>"
      ],
      "text/plain": [
       "     N_SOIL    P_SOIL    K_SOIL  TEMPERATURE  HUMIDITY        ph  RAINFALL  \\\n",
       "0  0.740831  0.108255  0.111055     0.504541  0.574697  0.552189  0.610996   \n",
       "1  0.530736  0.319148  0.158893     0.502829  0.691580  0.567435  0.616682   \n",
       "2  0.087342  0.682097  0.748304     0.419808  0.909292  0.343870  0.381182   \n",
       "3  0.157143  0.357143  0.095000     0.566497  0.502174  0.801828  0.159221   \n",
       "4  0.095257  0.462962  0.067220     0.485957  0.632552  0.565024  0.072943   \n",
       "\n",
       "      STATE  CROP_PRICE      CROP  \n",
       "0  1.000000    0.015602  0.238095  \n",
       "1  1.000000    0.025349  0.380952  \n",
       "2  0.920000    0.010879  0.047150  \n",
       "3  0.400000    0.019150  0.619048  \n",
       "4  0.512587    0.072108  0.476190  "
      ]
     },
     "execution_count": 5,
     "metadata": {},
     "output_type": "execute_result"
    }
   ],
   "source": [
    "X_test.head()"
   ]
  },
  {
   "cell_type": "code",
   "execution_count": 6,
   "id": "69b451d2",
   "metadata": {},
   "outputs": [
    {
     "data": {
      "text/html": [
       "<div>\n",
       "<style scoped>\n",
       "    .dataframe tbody tr th:only-of-type {\n",
       "        vertical-align: middle;\n",
       "    }\n",
       "\n",
       "    .dataframe tbody tr th {\n",
       "        vertical-align: top;\n",
       "    }\n",
       "\n",
       "    .dataframe thead th {\n",
       "        text-align: right;\n",
       "    }\n",
       "</style>\n",
       "<table border=\"1\" class=\"dataframe\">\n",
       "  <thead>\n",
       "    <tr style=\"text-align: right;\">\n",
       "      <th></th>\n",
       "      <th>class</th>\n",
       "    </tr>\n",
       "  </thead>\n",
       "  <tbody>\n",
       "    <tr>\n",
       "      <th>0</th>\n",
       "      <td>2</td>\n",
       "    </tr>\n",
       "    <tr>\n",
       "      <th>1</th>\n",
       "      <td>3</td>\n",
       "    </tr>\n",
       "    <tr>\n",
       "      <th>2</th>\n",
       "      <td>3</td>\n",
       "    </tr>\n",
       "    <tr>\n",
       "      <th>3</th>\n",
       "      <td>0</td>\n",
       "    </tr>\n",
       "    <tr>\n",
       "      <th>4</th>\n",
       "      <td>1</td>\n",
       "    </tr>\n",
       "  </tbody>\n",
       "</table>\n",
       "</div>"
      ],
      "text/plain": [
       "   class\n",
       "0      2\n",
       "1      3\n",
       "2      3\n",
       "3      0\n",
       "4      1"
      ]
     },
     "execution_count": 6,
     "metadata": {},
     "output_type": "execute_result"
    }
   ],
   "source": [
    "y_test.head()"
   ]
  },
  {
   "cell_type": "markdown",
   "id": "d4b7b6e4",
   "metadata": {
    "id": "d4b7b6e4"
   },
   "source": [
    "---"
   ]
  },
  {
   "cell_type": "markdown",
   "id": "1awTCLWn2kCS",
   "metadata": {
    "id": "1awTCLWn2kCS"
   },
   "source": [
    "# Algorithm-1 : KNeighborsClassifier"
   ]
  },
  {
   "cell_type": "code",
   "execution_count": 7,
   "id": "YxFwOCme2kCT",
   "metadata": {
    "executionInfo": {
     "elapsed": 386,
     "status": "ok",
     "timestamp": 1695454319005,
     "user": {
      "displayName": "Pulavendran S",
      "userId": "09545379829326731753"
     },
     "user_tz": -330
    },
    "id": "YxFwOCme2kCT"
   },
   "outputs": [],
   "source": [
    "from sklearn.neighbors import KNeighborsClassifier\n",
    "\n",
    "knc_model = KNeighborsClassifier(n_neighbors=2)\n",
    "knc_model = knc_model.fit(X_train.values, y_train.values.ravel())"
   ]
  },
  {
   "cell_type": "code",
   "execution_count": 8,
   "id": "s9DYuEJJ2kCV",
   "metadata": {
    "colab": {
     "base_uri": "https://localhost:8080/"
    },
    "executionInfo": {
     "elapsed": 455,
     "status": "ok",
     "timestamp": 1695454357055,
     "user": {
      "displayName": "Pulavendran S",
      "userId": "09545379829326731753"
     },
     "user_tz": -330
    },
    "id": "s9DYuEJJ2kCV",
    "outputId": "5a316d62-7919-49a2-e88b-8f78ab55d693"
   },
   "outputs": [
    {
     "name": "stdout",
     "output_type": "stream",
     "text": [
      "[2, 3, 3, 0, 1, 2, 0, 3, 1, 0, 2, 3, 3, 2, 3, 3, 3, 2, 3, 1, 0, 1, 1, 3, 3, 1, 2, 1, 1, 3, 0, 0, 2, 2, 0, 1, 0, 3, 1, 1, 1, 1, 3, 2, 2, 0, 3, 1, 0, 1, 1, 1, 2, 2, 0, 3, 1, 3, 1, 3, 3, 2, 3, 0, 0, 0, 3, 0, 3, 0, 1, 2, 3, 2, 1, 1, 0, 2, 2, 2, 3, 3, 3, 2, 3, 1, 1, 2, 1, 1, 2, 2, 1, 2, 1, 1, 2, 2, 2, 2, 1, 2, 0, 0, 2, 1, 3, 2, 3, 3, 3, 1, 2, 2, 1, 0, 3, 1, 2, 0, 1, 3, 3, 0, 2, 2, 0, 3, 2, 0, 3, 2, 3, 2, 0, 1, 2, 1, 0, 3, 1, 0, 2, 3, 2, 1, 3, 2, 2, 3, 3, 0, 1, 2, 3, 2, 2, 3, 2, 3, 3, 2, 3, 1, 1, 1, 1, 3, 3, 1, 1, 0, 1, 1, 1, 0, 2, 3, 1, 0, 3, 1, 2, 2, 0, 1, 2, 3, 1, 1, 2, 1, 2, 1, 2, 1, 3, 2, 1, 3, 0, 2, 1, 1, 3, 3, 3, 0, 2, 2, 0, 3, 0, 3, 2, 3, 3, 0, 3, 3, 3, 3, 3, 0, 3, 0, 1, 2, 0, 0, 1, 2, 0, 3, 1, 3, 1, 1, 1, 3, 1, 2, 2, 2, 1, 1, 2, 3, 1, 0, 0, 1, 0, 1, 1, 1, 1, 1, 0, 2, 3, 1, 0, 1, 2, 2, 0, 2, 1, 1, 2, 2, 3, 3, 2, 0, 2, 3, 3, 2, 2, 3, 0, 1, 1, 3, 0, 2, 1, 2, 3, 1, 1, 1, 1, 3, 1, 2, 3, 1, 1, 3, 1, 3, 3, 1, 1, 0, 2, 2, 1, 3, 3, 1, 3, 0, 3, 1, 1, 3, 2, 2, 1, 2, 2, 3, 3, 1, 1, 0, 2, 0, 3, 2, 1, 3, 3, 3, 3, 1, 1, 0, 2, 0, 3, 0, 1, 1, 0, 3, 1, 0, 0, 1, 0, 1, 1, 3, 3, 1, 2, 2, 3, 3, 0, 3, 2, 0, 1, 3, 0, 3, 3, 3, 2, 2, 0, 3, 2, 1, 1, 0, 1, 0, 1, 2, 2, 1, 1, 1, 2, 1, 1, 2, 1, 1, 2, 3, 1, 2, 1, 2, 2, 1, 2, 1, 1, 2, 1, 2, 0, 1, 0, 3, 0, 1, 0, 1, 3, 2, 2, 0, 2, 0, 3, 1, 2, 2, 2, 2, 0, 0, 1, 2, 2, 2, 3, 0, 3, 1, 3, 1, 0, 3, 2, 1, 1, 3, 1, 0, 0, 2, 3, 0, 1, 1, 3, 3, 1, 2, 2, 2, 2, 2, 3, 3, 3, 3, 2, 1, 1, 3, 0, 0, 2, 0, 1, 3, 1, 0, 3, 3, 2, 2, 1, 0, 1, 1, 3, 0, 1, 1, 1, 0, 1, 1, 0, 3, 1, 0, 3, 1, 1, 1, 3, 2, 1, 1, 3, 1, 3, 3, 2, 0, 0, 3, 1, 2, 2, 0, 3, 3, 1, 2, 1, 1, 2, 2, 1, 1, 2, 0, 2, 2, 2, 3, 1, 0, 0, 3, 3, 1, 2, 1, 2, 2, 2, 3, 1, 2, 3, 2, 1, 3, 1, 2, 2, 2, 2, 2, 3, 2, 1, 3, 3, 2, 0, 1, 0, 2, 3, 2, 1, 3, 3, 1, 1, 0, 2, 2, 1, 1, 2, 1, 1, 3, 0, 0, 2, 3, 0, 1, 1, 1, 1, 2, 3, 2, 3, 3, 3, 1, 3, 0, 0, 3, 0, 2, 2, 3, 1, 3, 1, 1, 1, 2, 0, 3, 3, 1, 1, 2, 3, 1, 3, 0, 3, 2, 1, 2, 1, 0, 2, 1, 3, 2, 2, 1, 1, 2, 2, 3, 3, 0, 3, 1, 1, 1, 2, 3, 3, 1, 3, 0, 3, 0, 3, 1, 1, 2, 1, 3, 0, 0, 2, 3, 3, 2, 3, 1, 0, 0, 2, 2, 1, 3, 1, 1, 3, 3, 0, 2, 0, 3, 0, 3, 2, 3, 1, 0, 1, 1, 2, 3, 1, 3, 3, 1, 3, 1, 2, 1, 1, 1, 0, 1, 3, 3, 3, 1, 3, 1, 1, 2, 3, 3, 1, 1, 3, 1, 2, 0, 0, 2, 0, 2, 3, 3, 3, 0, 0, 2, 1, 1, 2, 3, 1, 1, 1, 2, 1, 2, 0, 0, 3, 1, 1, 2, 3, 2, 2, 2, 2, 0, 2, 3, 1, 0, 3, 1, 3, 2, 3, 1, 2, 0, 3, 1, 1, 0, 0, 2, 3, 1, 1, 0, 2, 3, 1, 1, 0, 1, 2, 3, 3, 0, 2, 1, 0, 1, 1, 1, 0, 3, 2, 1, 2, 3, 2, 2, 1, 2, 2, 3, 2, 3, 2, 3, 3, 3, 3, 2, 1, 0, 0, 2, 2, 0, 2, 0, 1, 0, 3, 1, 3, 2, 1, 0, 1, 3, 1, 0, 2, 3, 0, 3, 3, 3, 1, 3, 1, 0, 3, 1, 3, 0, 3, 0, 1, 1, 1, 2, 0, 3, 1, 1, 3, 2, 3, 3, 3, 1, 0, 2, 3, 3, 1, 0, 0, 2, 1, 3, 0, 1, 3, 2, 2, 2, 1, 1, 0, 0, 3, 2, 2, 0, 1, 1, 0, 0, 3, 0, 3, 2, 1, 1, 3, 1, 1, 0, 3, 0, 2, 2, 0, 3, 2, 3, 1, 1, 0, 2, 1, 2, 3, 3, 2, 3, 1, 3, 3, 2, 1, 2, 1, 0, 1, 3, 2, 1, 3, 0, 1, 1, 2, 0, 0, 1, 3, 2, 2, 2, 2, 1, 1, 1, 1, 3, 1, 0, 2, 1, 1, 0, 1, 1, 2, 0, 0, 3, 2, 0, 2, 1, 0, 3, 3, 2, 3, 3, 1, 3, 3, 0, 1, 2, 0, 3, 2, 1, 2, 1, 1, 3, 2, 0, 2, 0, 3, 0, 0, 0, 2, 0, 3, 0, 1, 1, 3, 0, 1, 0, 3, 1, 1, 0, 1, 1, 0, 2, 2, 2, 1, 3, 1, 2, 3, 2, 3, 0, 0, 2, 1, 3, 3, 3, 2, 0, 0, 0, 3, 0, 1, 1, 3, 1, 2, 3, 3, 3, 2, 1, 1, 1, 2, 1, 1, 1, 1, 1, 3, 0, 0, 2, 3, 1, 1, 2, 2, 2, 1, 0, 3, 0, 1, 0, 0, 2, 2, 3, 3, 2, 0, 3, 1, 3, 1, 0, 2, 1, 1, 1, 1, 0, 3, 1, 1, 2, 2, 3, 3, 0, 3, 2, 2, 3, 3, 1, 1, 0, 0, 3, 2, 0, 0, 3, 3, 2, 2, 1, 2, 2, 0, 1, 3, 1, 1, 0, 2, 1, 2, 3, 1, 2, 3, 2, 0, 2, 1, 3, 1, 2, 1, 1, 2, 0, 3, 2, 2, 1, 2, 3, 1, 1, 1, 1, 2, 2, 2, 3, 0, 3, 0, 2, 3, 1, 3, 1, 2, 2, 3, 3, 2, 0, 2, 2, 2, 3, 1, 0, 3, 1, 2, 3, 2, 0, 0, 1, 2, 0, 3, 0, 2, 2, 2, 1, 1, 1, 2, 2, 3, 1, 1, 2, 2, 1, 0, 2, 1, 1, 0, 3, 3, 3, 1, 3, 2, 3, 1, 3, 3, 2, 1, 2, 1, 3, 3, 0, 1, 3, 2, 0, 1, 1, 3, 3, 3, 1, 1, 3, 3, 2, 1, 1, 3, 3, 2, 2, 2, 2, 0, 1, 3, 2, 0, 0, 2, 1, 2, 1, 1, 2, 2, 1, 3, 0, 2, 2, 3, 2, 2, 1, 3, 3, 0, 3, 0, 0, 3, 1, 3, 1, 3, 1, 2, 2, 3, 0, 1, 1, 1, 1, 2, 3, 3, 1, 1, 0, 1, 3, 2, 3, 1, 0, 2, 0, 3, 0, 2, 2, 3, 3, 1, 2, 1, 3, 1, 3, 2, 0, 2, 1, 1, 0, 2, 2, 1, 3, 3, 0, 3, 3, 3, 1, 3, 3, 2, 1, 3, 3, 2, 0, 0, 0, 0, 1, 1, 2, 2, 3, 2, 2, 2, 3, 2, 2, 0, 0, 1, 2, 2, 3, 3, 1, 1, 2, 1, 3, 2, 2, 1, 0, 3, 1, 3, 3, 2, 1, 3, 1, 2, 1, 0, 2, 2, 0, 2, 2, 1, 3, 3, 3, 3, 0, 1, 0, 2, 2, 1, 2, 1, 0, 0, 1, 1, 2, 1, 1, 2, 3, 0, 1, 1, 1, 1, 2, 2, 0, 3, 2, 1, 2, 1, 3, 0, 0, 2, 2, 3, 3, 2, 2, 0, 1, 3, 0, 2, 0, 0, 0, 1, 1, 3, 2, 1, 3, 2, 2, 0, 2]\n"
     ]
    }
   ],
   "source": [
    "knc_prediction = knc_model.predict(X_test.values)\n",
    "print(knc_prediction.tolist())"
   ]
  },
  {
   "cell_type": "code",
   "execution_count": 9,
   "id": "78fd7ad7",
   "metadata": {},
   "outputs": [
    {
     "name": "stdout",
     "output_type": "stream",
     "text": [
      "[2, 3, 3, 0, 1, 2, 0, 3, 1, 0, 2, 3, 1, 2, 3, 3, 3, 2, 3, 0, 1, 1, 1, 3, 3, 1, 2, 1, 1, 3, 0, 0, 2, 2, 1, 0, 0, 3, 1, 1, 1, 1, 0, 2, 2, 2, 3, 1, 0, 1, 1, 0, 2, 2, 0, 0, 1, 3, 1, 3, 3, 2, 3, 0, 0, 0, 3, 0, 3, 3, 1, 2, 3, 2, 1, 0, 0, 2, 2, 2, 3, 3, 3, 2, 3, 0, 0, 2, 1, 1, 2, 2, 1, 2, 1, 0, 2, 2, 0, 2, 1, 2, 0, 0, 2, 1, 0, 2, 3, 3, 3, 1, 2, 2, 1, 0, 3, 0, 3, 0, 1, 3, 0, 0, 2, 2, 0, 3, 2, 0, 3, 2, 3, 2, 0, 1, 2, 1, 0, 0, 1, 2, 2, 3, 2, 1, 3, 2, 1, 3, 3, 0, 1, 2, 3, 2, 2, 3, 2, 3, 3, 2, 3, 1, 1, 1, 1, 3, 0, 1, 1, 0, 1, 1, 3, 0, 2, 3, 1, 0, 3, 1, 2, 2, 0, 1, 2, 3, 1, 1, 2, 1, 2, 1, 2, 1, 3, 2, 0, 3, 0, 2, 1, 1, 3, 3, 3, 0, 2, 2, 0, 3, 0, 3, 2, 3, 3, 0, 3, 3, 0, 3, 0, 0, 3, 0, 1, 2, 0, 0, 1, 2, 0, 3, 1, 0, 1, 1, 1, 3, 1, 2, 2, 2, 1, 1, 2, 3, 1, 0, 0, 1, 0, 1, 0, 1, 1, 1, 0, 2, 3, 1, 0, 1, 0, 0, 0, 2, 1, 1, 2, 2, 2, 3, 2, 0, 2, 3, 3, 2, 2, 3, 0, 0, 1, 3, 0, 2, 1, 2, 3, 1, 1, 1, 0, 0, 1, 2, 0, 1, 0, 3, 1, 3, 3, 1, 1, 0, 0, 0, 0, 3, 3, 1, 3, 0, 3, 1, 1, 3, 2, 0, 1, 0, 2, 3, 3, 1, 1, 0, 2, 0, 3, 2, 0, 0, 3, 3, 0, 1, 1, 2, 2, 3, 3, 1, 1, 1, 0, 3, 1, 0, 0, 0, 0, 1, 1, 3, 3, 1, 2, 2, 3, 3, 0, 3, 0, 0, 1, 3, 0, 3, 3, 3, 2, 2, 0, 3, 2, 0, 1, 0, 1, 0, 1, 2, 2, 1, 0, 1, 2, 0, 0, 0, 1, 1, 2, 3, 1, 2, 1, 2, 2, 1, 2, 1, 1, 2, 1, 2, 0, 1, 0, 3, 0, 1, 1, 1, 0, 2, 2, 0, 0, 0, 3, 1, 2, 2, 2, 2, 0, 0, 1, 2, 0, 2, 3, 0, 3, 1, 3, 3, 0, 3, 2, 1, 0, 3, 1, 2, 0, 2, 3, 0, 1, 1, 3, 3, 0, 2, 2, 2, 2, 2, 3, 3, 3, 3, 2, 1, 1, 3, 0, 1, 0, 0, 1, 3, 1, 0, 0, 3, 2, 2, 1, 3, 1, 1, 3, 0, 0, 0, 1, 0, 1, 1, 0, 3, 1, 1, 3, 0, 1, 1, 3, 2, 0, 1, 3, 1, 3, 3, 2, 0, 0, 0, 1, 2, 2, 0, 0, 3, 1, 2, 1, 1, 2, 2, 1, 1, 2, 0, 2, 2, 2, 3, 1, 0, 0, 3, 3, 1, 2, 1, 2, 2, 2, 3, 1, 2, 3, 2, 1, 3, 0, 2, 2, 2, 0, 2, 3, 2, 1, 3, 0, 2, 0, 1, 0, 2, 3, 2, 0, 3, 3, 1, 1, 0, 2, 2, 0, 1, 2, 0, 3, 3, 0, 1, 2, 3, 0, 1, 1, 1, 1, 2, 3, 2, 3, 3, 3, 1, 3, 2, 0, 3, 0, 2, 2, 3, 1, 3, 3, 1, 0, 2, 0, 3, 3, 1, 1, 2, 3, 1, 3, 1, 0, 3, 1, 2, 1, 0, 2, 1, 3, 2, 2, 0, 1, 2, 2, 3, 3, 0, 3, 0, 0, 1, 2, 3, 3, 1, 3, 0, 3, 0, 0, 1, 1, 2, 0, 3, 0, 0, 2, 3, 3, 2, 3, 1, 0, 0, 2, 2, 1, 3, 1, 1, 3, 0, 0, 2, 0, 3, 2, 3, 2, 3, 1, 0, 1, 1, 2, 3, 1, 3, 3, 0, 0, 1, 2, 1, 0, 1, 0, 1, 3, 3, 3, 1, 3, 1, 1, 2, 3, 3, 1, 1, 3, 1, 2, 0, 0, 2, 1, 2, 3, 3, 3, 0, 3, 2, 1, 1, 2, 0, 1, 0, 1, 2, 1, 2, 1, 0, 3, 0, 1, 2, 3, 2, 2, 2, 2, 0, 2, 3, 0, 0, 3, 3, 0, 0, 3, 1, 2, 0, 3, 1, 1, 0, 0, 2, 3, 2, 1, 0, 2, 2, 1, 1, 0, 1, 2, 3, 3, 0, 2, 1, 1, 1, 1, 0, 0, 3, 2, 0, 2, 3, 2, 2, 1, 2, 2, 3, 2, 3, 2, 3, 3, 3, 3, 2, 1, 2, 0, 2, 2, 0, 2, 0, 0, 0, 3, 1, 3, 2, 1, 0, 1, 3, 1, 0, 2, 3, 0, 3, 3, 3, 1, 3, 1, 0, 3, 1, 3, 0, 3, 0, 1, 0, 0, 2, 0, 3, 1, 1, 3, 2, 3, 3, 3, 1, 2, 2, 3, 3, 1, 0, 1, 2, 1, 0, 0, 1, 3, 2, 2, 2, 1, 1, 1, 0, 0, 2, 3, 0, 1, 1, 0, 0, 3, 0, 3, 0, 1, 1, 3, 1, 1, 2, 3, 0, 0, 2, 0, 3, 2, 3, 1, 1, 0, 2, 0, 2, 0, 3, 2, 3, 1, 3, 3, 2, 1, 2, 1, 0, 1, 3, 0, 1, 3, 0, 1, 1, 2, 0, 0, 1, 3, 2, 0, 3, 2, 1, 0, 1, 1, 3, 0, 0, 2, 1, 1, 0, 1, 1, 2, 0, 0, 3, 2, 0, 0, 1, 0, 3, 3, 2, 3, 3, 1, 3, 3, 0, 1, 2, 0, 3, 0, 0, 2, 1, 1, 3, 0, 0, 2, 0, 3, 0, 0, 0, 2, 0, 0, 0, 1, 1, 3, 0, 1, 0, 3, 1, 1, 0, 1, 1, 0, 2, 2, 2, 1, 3, 1, 2, 3, 2, 3, 0, 0, 2, 1, 3, 3, 3, 2, 0, 0, 0, 3, 0, 1, 0, 3, 0, 2, 3, 3, 3, 2, 1, 1, 1, 2, 1, 1, 1, 0, 3, 3, 0, 0, 2, 3, 1, 1, 2, 2, 2, 1, 0, 3, 0, 1, 0, 0, 2, 2, 3, 3, 2, 0, 3, 0, 3, 1, 0, 2, 1, 1, 1, 1, 0, 3, 0, 1, 2, 2, 3, 3, 0, 3, 2, 2, 3, 0, 1, 0, 2, 0, 3, 2, 0, 0, 3, 3, 2, 0, 0, 2, 3, 0, 0, 3, 1, 1, 0, 2, 0, 2, 0, 1, 2, 3, 2, 0, 2, 1, 3, 1, 2, 1, 1, 3, 0, 3, 2, 2, 0, 2, 0, 2, 1, 1, 1, 2, 2, 2, 3, 2, 3, 0, 2, 3, 1, 3, 1, 2, 2, 3, 3, 2, 0, 2, 2, 2, 3, 1, 0, 3, 1, 2, 3, 2, 0, 0, 0, 2, 2, 3, 0, 2, 2, 2, 0, 1, 0, 2, 2, 0, 1, 1, 2, 2, 1, 0, 2, 1, 0, 0, 3, 3, 3, 1, 3, 2, 3, 1, 3, 3, 2, 1, 2, 1, 3, 3, 0, 1, 3, 2, 0, 1, 3, 2, 1, 3, 1, 1, 3, 0, 2, 1, 1, 3, 3, 2, 2, 2, 0, 0, 1, 3, 2, 2, 0, 2, 1, 2, 1, 1, 2, 2, 1, 0, 0, 2, 2, 3, 2, 2, 1, 0, 3, 0, 3, 0, 2, 1, 1, 3, 1, 3, 1, 2, 2, 3, 0, 1, 3, 2, 1, 2, 3, 3, 1, 3, 0, 1, 3, 2, 3, 1, 0, 3, 0, 3, 3, 2, 2, 3, 3, 1, 0, 1, 0, 1, 3, 2, 0, 2, 1, 1, 0, 2, 2, 0, 3, 3, 0, 3, 3, 3, 3, 3, 3, 2, 1, 3, 3, 2, 0, 0, 0, 0, 1, 0, 2, 2, 3, 2, 2, 2, 0, 2, 3, 0, 0, 1, 2, 2, 3, 3, 2, 1, 2, 1, 3, 2, 2, 1, 0, 3, 1, 3, 3, 2, 1, 3, 3, 2, 1, 0, 2, 2, 0, 2, 2, 0, 3, 3, 3, 3, 0, 1, 0, 2, 0, 1, 2, 1, 2, 0, 1, 3, 2, 1, 0, 0, 3, 0, 1, 1, 1, 0, 3, 2, 0, 3, 2, 0, 2, 1, 3, 0, 0, 2, 2, 3, 3, 2, 2, 0, 1, 3, 0, 0, 0, 0, 0, 1, 2, 3, 2, 1, 3, 2, 2, 0, 2]\n"
     ]
    }
   ],
   "source": [
    "y_true = y_test.values.ravel().tolist()\n",
    "print(y_true)"
   ]
  },
  {
   "cell_type": "markdown",
   "id": "guMZQ_t22kCW",
   "metadata": {
    "id": "guMZQ_t22kCW"
   },
   "source": [
    "### Result Analysis"
   ]
  },
  {
   "cell_type": "code",
   "execution_count": 10,
   "id": "QyCLbIVU4c1M",
   "metadata": {
    "executionInfo": {
     "elapsed": 5,
     "status": "ok",
     "timestamp": 1695454359877,
     "user": {
      "displayName": "Pulavendran S",
      "userId": "09545379829326731753"
     },
     "user_tz": -330
    },
    "id": "QyCLbIVU4c1M"
   },
   "outputs": [],
   "source": [
    "class_labels = ['0', '1', '2', '3']"
   ]
  },
  {
   "cell_type": "markdown",
   "id": "dV8W-mIZ2kCX",
   "metadata": {
    "id": "dV8W-mIZ2kCX"
   },
   "source": [
    "***Accuracy Score***"
   ]
  },
  {
   "cell_type": "code",
   "execution_count": 11,
   "id": "yd3IzKjc2kCX",
   "metadata": {
    "colab": {
     "base_uri": "https://localhost:8080/"
    },
    "executionInfo": {
     "elapsed": 6,
     "status": "ok",
     "timestamp": 1695454361426,
     "user": {
      "displayName": "Pulavendran S",
      "userId": "09545379829326731753"
     },
     "user_tz": -330
    },
    "id": "yd3IzKjc2kCX",
    "outputId": "4e584a5f-6038-45d9-bf61-8c466c20a4a3"
   },
   "outputs": [
    {
     "name": "stdout",
     "output_type": "stream",
     "text": [
      "Validation accuracy of KNeighborsClassifier model is 86.18%\n"
     ]
    }
   ],
   "source": [
    "knc_model_accuracy = accuracy_score(y_true=y_true, y_pred=knc_prediction)\n",
    "print(\"Validation accuracy of KNeighborsClassifier model is {:.2f}%\".format(knc_model_accuracy*100))"
   ]
  },
  {
   "cell_type": "markdown",
   "id": "nvGPs5Gd2kCX",
   "metadata": {
    "id": "nvGPs5Gd2kCX"
   },
   "source": [
    "***Classification Report***"
   ]
  },
  {
   "cell_type": "code",
   "execution_count": 12,
   "id": "nGtKmOBw2kCX",
   "metadata": {
    "colab": {
     "base_uri": "https://localhost:8080/"
    },
    "executionInfo": {
     "elapsed": 531,
     "status": "ok",
     "timestamp": 1695454364424,
     "user": {
      "displayName": "Pulavendran S",
      "userId": "09545379829326731753"
     },
     "user_tz": -330
    },
    "id": "nGtKmOBw2kCX",
    "outputId": "0666149e-8041-4a78-b411-f59fdeb46cee"
   },
   "outputs": [
    {
     "name": "stdout",
     "output_type": "stream",
     "text": [
      "              precision    recall  f1-score   support\n",
      "\n",
      "           0       0.87      0.63      0.73       360\n",
      "           1       0.80      0.95      0.87       360\n",
      "           2       0.90      0.94      0.92       360\n",
      "           3       0.89      0.93      0.91       360\n",
      "\n",
      "    accuracy                           0.86      1440\n",
      "   macro avg       0.86      0.86      0.86      1440\n",
      "weighted avg       0.86      0.86      0.86      1440\n",
      "\n"
     ]
    }
   ],
   "source": [
    "print(classification_report(y_true=y_true, y_pred=knc_prediction, target_names=class_labels))"
   ]
  },
  {
   "cell_type": "markdown",
   "id": "0KGr73Mx2kCX",
   "metadata": {
    "id": "0KGr73Mx2kCX"
   },
   "source": [
    "***Confusion Matrix***"
   ]
  },
  {
   "cell_type": "code",
   "execution_count": 13,
   "id": "6jnjEWs74zw5",
   "metadata": {
    "colab": {
     "base_uri": "https://localhost:8080/",
     "height": 468
    },
    "executionInfo": {
     "elapsed": 884,
     "status": "ok",
     "timestamp": 1695454366303,
     "user": {
      "displayName": "Pulavendran S",
      "userId": "09545379829326731753"
     },
     "user_tz": -330
    },
    "id": "6jnjEWs74zw5",
    "outputId": "fced02d9-6d9c-495e-d3bd-49cac8a6080f"
   },
   "outputs": [
    {
     "data": {
      "image/png": "[encoded data removed]",
      "text/plain": [
       "<Figure size 500x500 with 1 Axes>"
      ]
     },
     "metadata": {},
     "output_type": "display_data"
    }
   ],
   "source": [
    "plt.figure(figsize=(5,5))\n",
    "plt.rcParams['font.size']=15\n",
    "sns.heatmap(\n",
    "    data=confusion_matrix(y_true=y_true, y_pred=knc_prediction),\n",
    "    annot=True,\n",
    "    cmap=plt.cm.Blues,\n",
    "    fmt=\"4d\",\n",
    "    xticklabels=class_labels,\n",
    "    yticklabels=class_labels,\n",
    "    cbar=False,\n",
    "    linewidths=3,\n",
    "    linecolor='black'\n",
    ")\n",
    "plt.title(label=\"Confusion Matrix\")\n",
    "plt.show()"
   ]
  },
  {
   "cell_type": "markdown",
   "id": "gW8C9Amd2kCY",
   "metadata": {
    "id": "gW8C9Amd2kCY"
   },
   "source": [
    "***Model Saving***"
   ]
  },
  {
   "cell_type": "code",
   "execution_count": 14,
   "id": "hlSxteT42kCY",
   "metadata": {
    "executionInfo": {
     "elapsed": 382,
     "status": "ok",
     "timestamp": 1695454366681,
     "user": {
      "displayName": "Pulavendran S",
      "userId": "09545379829326731753"
     },
     "user_tz": -330
    },
    "id": "hlSxteT42kCY"
   },
   "outputs": [],
   "source": [
    "with open(file=\"models/KNeighborsClassifier_model.pkl\", mode=\"wb\") as file:\n",
    "    pickle.dump(obj=knc_model, file=file)"
   ]
  },
  {
   "cell_type": "markdown",
   "id": "KPI9hE3D2iIo",
   "metadata": {
    "id": "KPI9hE3D2iIo"
   },
   "source": [
    "---"
   ]
  },
  {
   "cell_type": "markdown",
   "id": "ac2f42f7",
   "metadata": {
    "id": "1awTCLWn2kCS"
   },
   "source": [
    "# Algorithm-2 : RandomForestClassifier"
   ]
  },
  {
   "cell_type": "code",
   "execution_count": 15,
   "id": "e8066d47",
   "metadata": {
    "executionInfo": {
     "elapsed": 386,
     "status": "ok",
     "timestamp": 1695454319005,
     "user": {
      "displayName": "Pulavendran S",
      "userId": "09545379829326731753"
     },
     "user_tz": -330
    },
    "id": "YxFwOCme2kCT"
   },
   "outputs": [],
   "source": [
    "from sklearn.ensemble import RandomForestClassifier\n",
    "rfc_model = RandomForestClassifier(n_estimators=500)\n",
    "rfc_model = rfc_model.fit(X_train.values, y_train.values.ravel())"
   ]
  },
  {
   "cell_type": "code",
   "execution_count": 16,
   "id": "796065a9",
   "metadata": {
    "colab": {
     "base_uri": "https://localhost:8080/"
    },
    "executionInfo": {
     "elapsed": 455,
     "status": "ok",
     "timestamp": 1695454357055,
     "user": {
      "displayName": "Pulavendran S",
      "userId": "09545379829326731753"
     },
     "user_tz": -330
    },
    "id": "s9DYuEJJ2kCV",
    "outputId": "5a316d62-7919-49a2-e88b-8f78ab55d693"
   },
   "outputs": [
    {
     "name": "stdout",
     "output_type": "stream",
     "text": [
      "[2, 3, 0, 0, 1, 2, 0, 3, 1, 0, 2, 3, 1, 2, 3, 3, 3, 2, 3, 1, 1, 1, 1, 3, 3, 1, 2, 1, 1, 3, 0, 0, 2, 2, 0, 1, 0, 3, 0, 1, 1, 1, 2, 2, 2, 0, 3, 1, 0, 1, 1, 2, 2, 2, 0, 3, 1, 3, 1, 3, 3, 2, 3, 0, 0, 0, 3, 0, 3, 3, 1, 2, 3, 2, 1, 0, 0, 2, 2, 1, 3, 3, 3, 2, 3, 1, 0, 2, 1, 1, 2, 2, 1, 2, 1, 0, 2, 2, 2, 2, 1, 2, 0, 0, 2, 1, 3, 2, 3, 3, 3, 1, 2, 2, 1, 0, 3, 0, 3, 0, 1, 3, 0, 0, 2, 2, 0, 3, 2, 0, 3, 2, 3, 2, 0, 1, 2, 1, 0, 0, 1, 2, 2, 3, 2, 1, 3, 2, 3, 3, 3, 0, 1, 2, 3, 2, 2, 3, 2, 3, 3, 2, 3, 1, 1, 1, 1, 3, 0, 1, 1, 0, 2, 1, 3, 0, 2, 3, 1, 0, 3, 1, 2, 2, 2, 1, 2, 3, 0, 1, 2, 1, 2, 1, 2, 1, 3, 2, 1, 3, 0, 2, 1, 1, 3, 3, 3, 2, 2, 2, 0, 3, 0, 3, 2, 3, 3, 0, 3, 3, 3, 3, 3, 0, 3, 0, 1, 2, 0, 0, 0, 2, 0, 3, 1, 0, 1, 1, 1, 3, 1, 2, 2, 2, 1, 1, 2, 3, 1, 2, 0, 1, 1, 1, 0, 1, 1, 1, 0, 2, 3, 1, 0, 1, 0, 0, 0, 2, 1, 1, 2, 2, 1, 3, 2, 1, 2, 3, 3, 2, 2, 3, 0, 1, 1, 3, 3, 2, 1, 2, 3, 1, 1, 1, 0, 0, 1, 2, 0, 1, 1, 3, 1, 3, 3, 1, 1, 0, 0, 2, 1, 3, 3, 1, 3, 0, 3, 1, 1, 3, 2, 0, 1, 0, 2, 3, 3, 1, 1, 0, 2, 0, 3, 2, 1, 0, 3, 3, 0, 1, 1, 2, 2, 3, 3, 1, 1, 1, 0, 3, 1, 0, 0, 0, 2, 1, 1, 3, 3, 1, 2, 2, 3, 3, 0, 3, 2, 0, 1, 3, 0, 3, 3, 3, 2, 2, 0, 3, 2, 0, 1, 0, 1, 0, 1, 2, 2, 1, 1, 1, 2, 0, 0, 2, 1, 1, 2, 3, 1, 2, 1, 2, 2, 1, 2, 1, 1, 2, 1, 2, 0, 1, 0, 3, 0, 1, 1, 1, 0, 2, 2, 0, 2, 0, 3, 1, 2, 2, 2, 2, 0, 0, 1, 2, 2, 2, 3, 0, 3, 1, 3, 3, 0, 3, 2, 1, 0, 3, 1, 2, 1, 2, 3, 0, 1, 1, 3, 3, 0, 2, 2, 2, 2, 2, 3, 3, 3, 3, 2, 1, 1, 3, 0, 0, 2, 0, 1, 3, 1, 0, 3, 3, 2, 2, 1, 3, 1, 1, 3, 0, 1, 0, 1, 0, 1, 1, 0, 3, 1, 1, 3, 1, 1, 1, 3, 2, 0, 0, 3, 1, 3, 3, 2, 0, 3, 0, 1, 2, 2, 0, 0, 3, 1, 2, 1, 1, 2, 2, 1, 1, 2, 0, 2, 2, 2, 3, 1, 0, 0, 3, 3, 1, 2, 1, 2, 2, 2, 3, 1, 2, 3, 2, 1, 3, 0, 2, 2, 2, 0, 2, 3, 2, 1, 3, 0, 2, 0, 0, 0, 2, 3, 2, 0, 3, 3, 1, 1, 0, 2, 2, 0, 1, 2, 2, 3, 3, 0, 1, 2, 3, 0, 1, 1, 1, 1, 2, 3, 2, 3, 3, 3, 1, 3, 1, 0, 3, 0, 2, 2, 3, 0, 3, 3, 1, 0, 2, 0, 3, 3, 1, 1, 2, 3, 1, 3, 0, 0, 3, 1, 2, 1, 0, 2, 1, 3, 2, 2, 2, 1, 2, 2, 3, 3, 2, 3, 0, 1, 1, 2, 3, 3, 1, 3, 0, 3, 0, 0, 1, 1, 2, 1, 3, 1, 0, 2, 3, 3, 2, 3, 1, 0, 0, 2, 2, 1, 3, 1, 1, 3, 3, 0, 2, 0, 3, 2, 3, 2, 3, 1, 0, 1, 1, 2, 3, 1, 3, 3, 0, 0, 1, 2, 1, 0, 1, 0, 1, 3, 3, 3, 1, 3, 1, 1, 2, 3, 3, 1, 1, 3, 1, 2, 0, 0, 2, 1, 2, 3, 3, 3, 0, 3, 2, 1, 1, 2, 3, 1, 1, 1, 2, 1, 2, 1, 0, 3, 0, 0, 2, 3, 2, 2, 2, 2, 0, 2, 3, 1, 0, 3, 3, 1, 0, 3, 1, 2, 0, 3, 1, 1, 0, 0, 2, 3, 2, 1, 0, 2, 2, 1, 1, 2, 1, 2, 3, 1, 0, 2, 1, 0, 1, 1, 0, 0, 3, 2, 1, 2, 3, 2, 2, 1, 2, 2, 3, 2, 3, 2, 3, 3, 3, 3, 2, 1, 2, 0, 2, 2, 0, 2, 0, 0, 0, 3, 1, 3, 2, 1, 0, 1, 3, 1, 0, 2, 3, 0, 3, 3, 3, 1, 3, 1, 0, 3, 1, 3, 0, 3, 0, 1, 0, 0, 2, 2, 3, 1, 1, 3, 2, 3, 3, 3, 1, 3, 2, 3, 3, 1, 0, 1, 2, 1, 0, 0, 1, 3, 2, 2, 2, 1, 1, 1, 0, 0, 2, 2, 1, 1, 1, 0, 0, 3, 0, 3, 2, 1, 1, 3, 0, 1, 2, 3, 0, 2, 2, 0, 3, 2, 3, 1, 1, 0, 2, 0, 2, 0, 3, 2, 3, 1, 3, 3, 2, 1, 2, 1, 0, 1, 3, 0, 1, 3, 0, 1, 1, 2, 0, 0, 1, 3, 2, 2, 3, 2, 1, 1, 1, 1, 3, 0, 0, 2, 1, 1, 0, 1, 1, 2, 0, 0, 3, 2, 0, 0, 1, 0, 3, 3, 2, 3, 3, 1, 3, 3, 0, 1, 2, 0, 3, 0, 0, 2, 1, 1, 3, 0, 3, 2, 0, 3, 0, 0, 0, 2, 0, 0, 0, 1, 1, 3, 0, 1, 0, 3, 1, 1, 0, 1, 1, 0, 2, 2, 2, 1, 3, 1, 2, 3, 2, 3, 0, 0, 2, 2, 3, 3, 3, 2, 0, 3, 0, 3, 0, 1, 2, 3, 1, 2, 3, 3, 3, 2, 1, 1, 1, 2, 1, 1, 1, 0, 3, 3, 0, 0, 2, 3, 1, 1, 2, 2, 2, 1, 0, 3, 0, 1, 2, 0, 2, 2, 3, 3, 2, 0, 3, 3, 3, 1, 0, 2, 1, 1, 1, 1, 0, 3, 0, 1, 2, 2, 3, 3, 0, 3, 2, 2, 3, 0, 1, 0, 2, 0, 3, 2, 0, 2, 3, 3, 2, 0, 0, 2, 3, 0, 1, 3, 1, 1, 0, 2, 0, 2, 0, 1, 2, 3, 2, 0, 2, 1, 3, 1, 2, 1, 1, 2, 3, 3, 2, 2, 0, 2, 0, 2, 1, 1, 1, 2, 2, 2, 3, 2, 3, 1, 2, 3, 1, 3, 1, 3, 2, 3, 3, 2, 0, 2, 2, 2, 3, 1, 0, 3, 1, 2, 3, 2, 0, 0, 0, 2, 0, 3, 1, 2, 2, 2, 0, 1, 0, 2, 2, 0, 1, 1, 2, 2, 1, 0, 2, 1, 0, 0, 3, 3, 3, 1, 3, 2, 3, 1, 3, 3, 2, 1, 2, 1, 3, 3, 1, 1, 3, 2, 0, 1, 3, 2, 1, 3, 1, 1, 3, 0, 2, 1, 1, 3, 3, 2, 2, 2, 0, 0, 1, 3, 2, 2, 3, 2, 1, 2, 1, 1, 2, 2, 1, 3, 0, 2, 2, 3, 2, 2, 1, 3, 3, 0, 3, 0, 2, 1, 1, 3, 1, 3, 1, 2, 2, 3, 0, 1, 3, 2, 1, 2, 3, 3, 1, 3, 0, 1, 3, 2, 3, 1, 0, 3, 0, 3, 3, 2, 2, 3, 3, 1, 0, 1, 0, 1, 3, 2, 0, 2, 1, 1, 0, 0, 2, 0, 3, 3, 1, 3, 3, 3, 3, 3, 3, 2, 1, 3, 3, 2, 0, 0, 0, 1, 1, 0, 2, 2, 3, 2, 2, 2, 3, 2, 3, 0, 0, 1, 2, 2, 3, 3, 2, 2, 2, 1, 3, 2, 2, 1, 0, 3, 1, 3, 3, 2, 1, 3, 3, 2, 1, 2, 2, 2, 1, 2, 2, 3, 3, 3, 3, 3, 0, 1, 3, 2, 2, 1, 2, 1, 1, 0, 1, 3, 2, 1, 2, 2, 3, 0, 1, 1, 1, 0, 3, 2, 0, 3, 2, 0, 2, 1, 3, 0, 0, 2, 2, 3, 3, 2, 2, 0, 1, 3, 0, 0, 0, 0, 0, 1, 2, 3, 2, 1, 3, 2, 2, 3, 2]\n"
     ]
    }
   ],
   "source": [
    "rfc_prediction = rfc_model.predict(X_test.values)\n",
    "print(rfc_prediction.tolist())"
   ]
  },
  {
   "cell_type": "code",
   "execution_count": 17,
   "id": "98ebeb37",
   "metadata": {},
   "outputs": [
    {
     "name": "stdout",
     "output_type": "stream",
     "text": [
      "[2, 3, 3, 0, 1, 2, 0, 3, 1, 0, 2, 3, 1, 2, 3, 3, 3, 2, 3, 0, 1, 1, 1, 3, 3, 1, 2, 1, 1, 3, 0, 0, 2, 2, 1, 0, 0, 3, 1, 1, 1, 1, 0, 2, 2, 2, 3, 1, 0, 1, 1, 0, 2, 2, 0, 0, 1, 3, 1, 3, 3, 2, 3, 0, 0, 0, 3, 0, 3, 3, 1, 2, 3, 2, 1, 0, 0, 2, 2, 2, 3, 3, 3, 2, 3, 0, 0, 2, 1, 1, 2, 2, 1, 2, 1, 0, 2, 2, 0, 2, 1, 2, 0, 0, 2, 1, 0, 2, 3, 3, 3, 1, 2, 2, 1, 0, 3, 0, 3, 0, 1, 3, 0, 0, 2, 2, 0, 3, 2, 0, 3, 2, 3, 2, 0, 1, 2, 1, 0, 0, 1, 2, 2, 3, 2, 1, 3, 2, 1, 3, 3, 0, 1, 2, 3, 2, 2, 3, 2, 3, 3, 2, 3, 1, 1, 1, 1, 3, 0, 1, 1, 0, 1, 1, 3, 0, 2, 3, 1, 0, 3, 1, 2, 2, 0, 1, 2, 3, 1, 1, 2, 1, 2, 1, 2, 1, 3, 2, 0, 3, 0, 2, 1, 1, 3, 3, 3, 0, 2, 2, 0, 3, 0, 3, 2, 3, 3, 0, 3, 3, 0, 3, 0, 0, 3, 0, 1, 2, 0, 0, 1, 2, 0, 3, 1, 0, 1, 1, 1, 3, 1, 2, 2, 2, 1, 1, 2, 3, 1, 0, 0, 1, 0, 1, 0, 1, 1, 1, 0, 2, 3, 1, 0, 1, 0, 0, 0, 2, 1, 1, 2, 2, 2, 3, 2, 0, 2, 3, 3, 2, 2, 3, 0, 0, 1, 3, 0, 2, 1, 2, 3, 1, 1, 1, 0, 0, 1, 2, 0, 1, 0, 3, 1, 3, 3, 1, 1, 0, 0, 0, 0, 3, 3, 1, 3, 0, 3, 1, 1, 3, 2, 0, 1, 0, 2, 3, 3, 1, 1, 0, 2, 0, 3, 2, 0, 0, 3, 3, 0, 1, 1, 2, 2, 3, 3, 1, 1, 1, 0, 3, 1, 0, 0, 0, 0, 1, 1, 3, 3, 1, 2, 2, 3, 3, 0, 3, 0, 0, 1, 3, 0, 3, 3, 3, 2, 2, 0, 3, 2, 0, 1, 0, 1, 0, 1, 2, 2, 1, 0, 1, 2, 0, 0, 0, 1, 1, 2, 3, 1, 2, 1, 2, 2, 1, 2, 1, 1, 2, 1, 2, 0, 1, 0, 3, 0, 1, 1, 1, 0, 2, 2, 0, 0, 0, 3, 1, 2, 2, 2, 2, 0, 0, 1, 2, 0, 2, 3, 0, 3, 1, 3, 3, 0, 3, 2, 1, 0, 3, 1, 2, 0, 2, 3, 0, 1, 1, 3, 3, 0, 2, 2, 2, 2, 2, 3, 3, 3, 3, 2, 1, 1, 3, 0, 1, 0, 0, 1, 3, 1, 0, 0, 3, 2, 2, 1, 3, 1, 1, 3, 0, 0, 0, 1, 0, 1, 1, 0, 3, 1, 1, 3, 0, 1, 1, 3, 2, 0, 1, 3, 1, 3, 3, 2, 0, 0, 0, 1, 2, 2, 0, 0, 3, 1, 2, 1, 1, 2, 2, 1, 1, 2, 0, 2, 2, 2, 3, 1, 0, 0, 3, 3, 1, 2, 1, 2, 2, 2, 3, 1, 2, 3, 2, 1, 3, 0, 2, 2, 2, 0, 2, 3, 2, 1, 3, 0, 2, 0, 1, 0, 2, 3, 2, 0, 3, 3, 1, 1, 0, 2, 2, 0, 1, 2, 0, 3, 3, 0, 1, 2, 3, 0, 1, 1, 1, 1, 2, 3, 2, 3, 3, 3, 1, 3, 2, 0, 3, 0, 2, 2, 3, 1, 3, 3, 1, 0, 2, 0, 3, 3, 1, 1, 2, 3, 1, 3, 1, 0, 3, 1, 2, 1, 0, 2, 1, 3, 2, 2, 0, 1, 2, 2, 3, 3, 0, 3, 0, 0, 1, 2, 3, 3, 1, 3, 0, 3, 0, 0, 1, 1, 2, 0, 3, 0, 0, 2, 3, 3, 2, 3, 1, 0, 0, 2, 2, 1, 3, 1, 1, 3, 0, 0, 2, 0, 3, 2, 3, 2, 3, 1, 0, 1, 1, 2, 3, 1, 3, 3, 0, 0, 1, 2, 1, 0, 1, 0, 1, 3, 3, 3, 1, 3, 1, 1, 2, 3, 3, 1, 1, 3, 1, 2, 0, 0, 2, 1, 2, 3, 3, 3, 0, 3, 2, 1, 1, 2, 0, 1, 0, 1, 2, 1, 2, 1, 0, 3, 0, 1, 2, 3, 2, 2, 2, 2, 0, 2, 3, 0, 0, 3, 3, 0, 0, 3, 1, 2, 0, 3, 1, 1, 0, 0, 2, 3, 2, 1, 0, 2, 2, 1, 1, 0, 1, 2, 3, 3, 0, 2, 1, 1, 1, 1, 0, 0, 3, 2, 0, 2, 3, 2, 2, 1, 2, 2, 3, 2, 3, 2, 3, 3, 3, 3, 2, 1, 2, 0, 2, 2, 0, 2, 0, 0, 0, 3, 1, 3, 2, 1, 0, 1, 3, 1, 0, 2, 3, 0, 3, 3, 3, 1, 3, 1, 0, 3, 1, 3, 0, 3, 0, 1, 0, 0, 2, 0, 3, 1, 1, 3, 2, 3, 3, 3, 1, 2, 2, 3, 3, 1, 0, 1, 2, 1, 0, 0, 1, 3, 2, 2, 2, 1, 1, 1, 0, 0, 2, 3, 0, 1, 1, 0, 0, 3, 0, 3, 0, 1, 1, 3, 1, 1, 2, 3, 0, 0, 2, 0, 3, 2, 3, 1, 1, 0, 2, 0, 2, 0, 3, 2, 3, 1, 3, 3, 2, 1, 2, 1, 0, 1, 3, 0, 1, 3, 0, 1, 1, 2, 0, 0, 1, 3, 2, 0, 3, 2, 1, 0, 1, 1, 3, 0, 0, 2, 1, 1, 0, 1, 1, 2, 0, 0, 3, 2, 0, 0, 1, 0, 3, 3, 2, 3, 3, 1, 3, 3, 0, 1, 2, 0, 3, 0, 0, 2, 1, 1, 3, 0, 0, 2, 0, 3, 0, 0, 0, 2, 0, 0, 0, 1, 1, 3, 0, 1, 0, 3, 1, 1, 0, 1, 1, 0, 2, 2, 2, 1, 3, 1, 2, 3, 2, 3, 0, 0, 2, 1, 3, 3, 3, 2, 0, 0, 0, 3, 0, 1, 0, 3, 0, 2, 3, 3, 3, 2, 1, 1, 1, 2, 1, 1, 1, 0, 3, 3, 0, 0, 2, 3, 1, 1, 2, 2, 2, 1, 0, 3, 0, 1, 0, 0, 2, 2, 3, 3, 2, 0, 3, 0, 3, 1, 0, 2, 1, 1, 1, 1, 0, 3, 0, 1, 2, 2, 3, 3, 0, 3, 2, 2, 3, 0, 1, 0, 2, 0, 3, 2, 0, 0, 3, 3, 2, 0, 0, 2, 3, 0, 0, 3, 1, 1, 0, 2, 0, 2, 0, 1, 2, 3, 2, 0, 2, 1, 3, 1, 2, 1, 1, 3, 0, 3, 2, 2, 0, 2, 0, 2, 1, 1, 1, 2, 2, 2, 3, 2, 3, 0, 2, 3, 1, 3, 1, 2, 2, 3, 3, 2, 0, 2, 2, 2, 3, 1, 0, 3, 1, 2, 3, 2, 0, 0, 0, 2, 2, 3, 0, 2, 2, 2, 0, 1, 0, 2, 2, 0, 1, 1, 2, 2, 1, 0, 2, 1, 0, 0, 3, 3, 3, 1, 3, 2, 3, 1, 3, 3, 2, 1, 2, 1, 3, 3, 0, 1, 3, 2, 0, 1, 3, 2, 1, 3, 1, 1, 3, 0, 2, 1, 1, 3, 3, 2, 2, 2, 0, 0, 1, 3, 2, 2, 0, 2, 1, 2, 1, 1, 2, 2, 1, 0, 0, 2, 2, 3, 2, 2, 1, 0, 3, 0, 3, 0, 2, 1, 1, 3, 1, 3, 1, 2, 2, 3, 0, 1, 3, 2, 1, 2, 3, 3, 1, 3, 0, 1, 3, 2, 3, 1, 0, 3, 0, 3, 3, 2, 2, 3, 3, 1, 0, 1, 0, 1, 3, 2, 0, 2, 1, 1, 0, 2, 2, 0, 3, 3, 0, 3, 3, 3, 3, 3, 3, 2, 1, 3, 3, 2, 0, 0, 0, 0, 1, 0, 2, 2, 3, 2, 2, 2, 0, 2, 3, 0, 0, 1, 2, 2, 3, 3, 2, 1, 2, 1, 3, 2, 2, 1, 0, 3, 1, 3, 3, 2, 1, 3, 3, 2, 1, 0, 2, 2, 0, 2, 2, 0, 3, 3, 3, 3, 0, 1, 0, 2, 0, 1, 2, 1, 2, 0, 1, 3, 2, 1, 0, 0, 3, 0, 1, 1, 1, 0, 3, 2, 0, 3, 2, 0, 2, 1, 3, 0, 0, 2, 2, 3, 3, 2, 2, 0, 1, 3, 0, 0, 0, 0, 0, 1, 2, 3, 2, 1, 3, 2, 2, 0, 2]\n"
     ]
    }
   ],
   "source": [
    "y_true = y_test.values.ravel().tolist()\n",
    "print(y_true)"
   ]
  },
  {
   "cell_type": "markdown",
   "id": "993b484d",
   "metadata": {
    "id": "guMZQ_t22kCW"
   },
   "source": [
    "### Result Analysis"
   ]
  },
  {
   "cell_type": "code",
   "execution_count": 18,
   "id": "299572fb",
   "metadata": {
    "executionInfo": {
     "elapsed": 5,
     "status": "ok",
     "timestamp": 1695454359877,
     "user": {
      "displayName": "Pulavendran S",
      "userId": "09545379829326731753"
     },
     "user_tz": -330
    },
    "id": "QyCLbIVU4c1M"
   },
   "outputs": [],
   "source": [
    "class_labels = ['0', '1', '2', '3']"
   ]
  },
  {
   "cell_type": "markdown",
   "id": "997530a0",
   "metadata": {
    "id": "dV8W-mIZ2kCX"
   },
   "source": [
    "***Accuracy Score***"
   ]
  },
  {
   "cell_type": "code",
   "execution_count": 19,
   "id": "c033186b",
   "metadata": {
    "colab": {
     "base_uri": "https://localhost:8080/"
    },
    "executionInfo": {
     "elapsed": 6,
     "status": "ok",
     "timestamp": 1695454361426,
     "user": {
      "displayName": "Pulavendran S",
      "userId": "09545379829326731753"
     },
     "user_tz": -330
    },
    "id": "yd3IzKjc2kCX",
    "outputId": "4e584a5f-6038-45d9-bf61-8c466c20a4a3"
   },
   "outputs": [
    {
     "name": "stdout",
     "output_type": "stream",
     "text": [
      "Validation accuracy of RandomForestClassifier model is 92.50%\n"
     ]
    }
   ],
   "source": [
    "rfc_model_accuracy=accuracy_score(y_true=y_true,y_pred=rfc_prediction)\n",
    "print(\"Validation accuracy of RandomForestClassifier model is {:.2f}%\".format(rfc_model_accuracy*100))"
   ]
  },
  {
   "cell_type": "markdown",
   "id": "eea28425",
   "metadata": {
    "id": "nvGPs5Gd2kCX"
   },
   "source": [
    "***Classification Report***"
   ]
  },
  {
   "cell_type": "code",
   "execution_count": 20,
   "id": "574d3037",
   "metadata": {
    "colab": {
     "base_uri": "https://localhost:8080/"
    },
    "executionInfo": {
     "elapsed": 531,
     "status": "ok",
     "timestamp": 1695454364424,
     "user": {
      "displayName": "Pulavendran S",
      "userId": "09545379829326731753"
     },
     "user_tz": -330
    },
    "id": "nGtKmOBw2kCX",
    "outputId": "0666149e-8041-4a78-b411-f59fdeb46cee"
   },
   "outputs": [
    {
     "name": "stdout",
     "output_type": "stream",
     "text": [
      "              precision    recall  f1-score   support\n",
      "\n",
      "           0       0.95      0.78      0.86       360\n",
      "           1       0.91      0.96      0.93       360\n",
      "           2       0.91      0.97      0.94       360\n",
      "           3       0.94      0.99      0.96       360\n",
      "\n",
      "    accuracy                           0.93      1440\n",
      "   macro avg       0.93      0.93      0.92      1440\n",
      "weighted avg       0.93      0.93      0.92      1440\n",
      "\n"
     ]
    }
   ],
   "source": [
    "print(classification_report(y_true=y_true,y_pred=rfc_prediction, target_names=class_labels))"
   ]
  },
  {
   "cell_type": "markdown",
   "id": "3b0b0770",
   "metadata": {
    "id": "0KGr73Mx2kCX"
   },
   "source": [
    "***Confusion Matrix***"
   ]
  },
  {
   "cell_type": "code",
   "execution_count": 21,
   "id": "818f21d9",
   "metadata": {},
   "outputs": [
    {
     "data": {
      "image/png": "[encoded data removed]",
      "text/plain": [
       "<Figure size 500x500 with 1 Axes>"
      ]
     },
     "metadata": {},
     "output_type": "display_data"
    }
   ],
   "source": [
    "plt.figure(figsize=(5,5))\n",
    "plt.rcParams['font.size']=15\n",
    "sns.heatmap(\n",
    "    data=confusion_matrix(y_true=y_true,y_pred=rfc_prediction),\n",
    "    annot=True,\n",
    "    cmap=plt.cm.Blues,\n",
    "    fmt=\"4d\",\n",
    "    xticklabels=class_labels,\n",
    "    yticklabels=class_labels,\n",
    "    cbar=False,\n",
    "    linewidths=3,\n",
    "    linecolor='black'\n",
    ")\n",
    "plt.title(label=\"Confusion Matrix\")\n",
    "plt.show()"
   ]
  },
  {
   "cell_type": "markdown",
   "id": "6b65b9e5",
   "metadata": {
    "id": "gW8C9Amd2kCY"
   },
   "source": [
    "***Model Saving***"
   ]
  },
  {
   "cell_type": "code",
   "execution_count": 22,
   "id": "63a6ac8d",
   "metadata": {
    "executionInfo": {
     "elapsed": 382,
     "status": "ok",
     "timestamp": 1695454366681,
     "user": {
      "displayName": "Pulavendran S",
      "userId": "09545379829326731753"
     },
     "user_tz": -330
    },
    "id": "hlSxteT42kCY"
   },
   "outputs": [],
   "source": [
    "with open(file=\"models/RandomForestClassifier_model.pkl\", mode=\"wb\") as file:\n",
    "    pickle.dump(obj=rfc_model, file=file)"
   ]
  },
  {
   "cell_type": "markdown",
   "id": "78db91fe",
   "metadata": {
    "id": "KPI9hE3D2iIo"
   },
   "source": [
    "---"
   ]
  },
  {
   "cell_type": "markdown",
   "id": "2bd5b33c",
   "metadata": {},
   "source": [
    "# Accuracy Comparision"
   ]
  },
  {
   "cell_type": "code",
   "execution_count": 23,
   "id": "1338b358",
   "metadata": {},
   "outputs": [
    {
     "data": {
      "image/png": "[encoded data removed]",
      "text/plain": [
       "<Figure size 800x600 with 1 Axes>"
      ]
     },
     "metadata": {},
     "output_type": "display_data"
    }
   ],
   "source": [
    "chart_data = [knc_model_accuracy, rfc_model_accuracy]\n",
    "chart_labels = ['KNeighborsClassifier', 'RandomForestClassifier']\n",
    "with plt.style.context(style=\"seaborn-darkgrid\"):\n",
    "    plt.figure(figsize=(8, 6))\n",
    "    plt.scatter(chart_labels, chart_data, color='blue', s=100, alpha=0.7)\n",
    "    plt.title('Model Comparison')\n",
    "    plt.xlabel('Model')\n",
    "    plt.ylabel('Accuracy')\n",
    "    for label, data in zip(chart_labels, chart_data):\n",
    "        plt.annotate(f'{data:.2f}', (label, data), textcoords=\"offset points\", xytext=(0, 5), ha='center')\n",
    "    plt.show()"
   ]
  },
  {
   "cell_type": "code",
   "execution_count": null,
   "id": "fa37b2c0",
   "metadata": {},
   "outputs": [],
   "source": []
  },
  {
   "cell_type": "code",
   "execution_count": null,
   "id": "1c46104d",
   "metadata": {},
   "outputs": [],
   "source": []
  },
  {
   "cell_type": "code",
   "execution_count": null,
   "id": "0c4cb741",
   "metadata": {},
   "outputs": [],
   "source": []
  }
 ],
 "metadata": {
  "accelerator": "GPU",
  "colab": {
   "gpuType": "T4",
   "provenance": []
  },
  "kernelspec": {
   "display_name": "Python 3 (ipykernel)",
   "language": "python",
   "name": "python3"
  },
  "language_info": {
   "codemirror_mode": {
    "name": "ipython",
    "version": 3
   },
   "file_extension": ".py",
   "mimetype": "text/x-python",
   "name": "python",
   "nbconvert_exporter": "python",
   "pygments_lexer": "ipython3",
   "version": "3.9.7"
  }
 },
 "nbformat": 4,
 "nbformat_minor": 5
}
